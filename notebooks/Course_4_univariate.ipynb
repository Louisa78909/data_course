{
 "cells": [
  {
   "cell_type": "markdown",
   "metadata": {
    "toc": true
   },
   "source": [
    "<h1>Table of Contents<span class=\"tocSkip\"></span></h1>\n",
    "<div class=\"toc\"><ul class=\"toc-item\"><li><span><a href=\"#Initial-Setup\" data-toc-modified-id=\"Initial-Setup-1\"><span class=\"toc-item-num\">1&nbsp;&nbsp;</span>Initial Setup</a></span><ul class=\"toc-item\"><li><span><a href=\"#Loading-data-into-a-DataFrame\" data-toc-modified-id=\"Loading-data-into-a-DataFrame-1.1\"><span class=\"toc-item-num\">1.1&nbsp;&nbsp;</span>Loading data into a DataFrame</a></span></li></ul></li><li><span><a href=\"#The-Boxplot-(and-friends)\" data-toc-modified-id=\"The-Boxplot-(and-friends)-2\"><span class=\"toc-item-num\">2&nbsp;&nbsp;</span>The Boxplot (and friends)</a></span><ul class=\"toc-item\"><li><span><a href=\"#Exercise:-What-can-we-say-about-these-two-distributions?\" data-toc-modified-id=\"Exercise:-What-can-we-say-about-these-two-distributions?-2.1\"><span class=\"toc-item-num\">2.1&nbsp;&nbsp;</span><em>Exercise</em>: What can we say about these two distributions?</a></span></li></ul></li><li><span><a href=\"#The-Histogram\" data-toc-modified-id=\"The-Histogram-3\"><span class=\"toc-item-num\">3&nbsp;&nbsp;</span>The Histogram</a></span><ul class=\"toc-item\"><li><span><a href=\"#Exercise:-Compare-bp_young-and-bp_old-using-histograms-to-highlight-shape-differences.\" data-toc-modified-id=\"Exercise:-Compare-bp_young-and-bp_old-using-histograms-to-highlight-shape-differences.-3.1\"><span class=\"toc-item-num\">3.1&nbsp;&nbsp;</span><em>Exercise:</em> Compare bp_young and bp_old using histograms to highlight shape differences.</a></span></li><li><span><a href=\"#Binning-Decisions\" data-toc-modified-id=\"Binning-Decisions-3.2\"><span class=\"toc-item-num\">3.2&nbsp;&nbsp;</span>Binning Decisions</a></span></li><li><span><a href=\"#Statistical-Error\" data-toc-modified-id=\"Statistical-Error-3.3\"><span class=\"toc-item-num\">3.3&nbsp;&nbsp;</span>Statistical Error</a></span></li></ul></li></ul></div>"
   ]
  },
  {
   "cell_type": "markdown",
   "metadata": {},
   "source": [
    "# Univariate Distributions \n",
    "We'll be looking at univariate features in this course, focusing on histograms, boxplots, and other methods.  The data we'll be investigating comes from the Pima Indians Diabetes dataset (an important study for diabetes research, especially in the context of pregnancy)."
   ]
  },
  {
   "cell_type": "markdown",
   "metadata": {},
   "source": [
    "## Initial Setup\n",
    "Loading in our packages, loading in our data, and making sure everything looks good."
   ]
  },
  {
   "cell_type": "code",
   "execution_count": null,
   "metadata": {},
   "outputs": [],
   "source": [
    "%matplotlib inline "
   ]
  },
  {
   "cell_type": "code",
   "execution_count": null,
   "metadata": {},
   "outputs": [],
   "source": [
    "# Basic imports\n",
    "import numpy as np\n",
    "import pandas as pd\n",
    "pd.options.display.max_columns = 100\n",
    "\n",
    "import matplotlib.pyplot as plt\n",
    "plt.rcParams['figure.figsize'] = (10,8)\n",
    "plt.rcParams['font.size'] = (16)\n",
    "\n",
    "import seaborn as sns\n",
    "\n",
    "import holoviews as hv\n",
    "from holoviews import opts\n",
    "import hvplot\n",
    "import hvplot.pandas\n",
    "\n",
    "# pd.options.plotting.backend = 'holoviews'\n",
    "\n",
    "hv.extension('bokeh', 'matplotlib', width=\"600\")\n"
   ]
  },
  {
   "cell_type": "markdown",
   "metadata": {},
   "source": [
    "### Loading data into a DataFrame\n",
    "This time around, we're starting with our pickle:"
   ]
  },
  {
   "cell_type": "code",
   "execution_count": null,
   "metadata": {},
   "outputs": [],
   "source": [
    "df = pd.read_csv('../data_sets/diabetes.csv')\n",
    "# or use pd.read_pickle('/pghbio/dbmi/batmanlab/bpollack/data_course/data_sets/rats.p')\n",
    "df.head() # View the first five rows"
   ]
  },
  {
   "cell_type": "markdown",
   "metadata": {},
   "source": [
    "## The Boxplot (and friends)\n",
    "The boxplot is one of the simplest methods of visualizing univariate data.  Is it always a useful tool?"
   ]
  },
  {
   "cell_type": "code",
   "execution_count": null,
   "metadata": {},
   "outputs": [],
   "source": [
    "# Let's make two groups, outliers and inliers.  Let's plot their distributions using a standard boxplot\n",
    "outliers = np.concatenate([df.query('Age<22 and BloodPressure>0').BloodPressure.values, df.query('Age>60 and BloodPressure>0').BloodPressure.values])\n",
    "inliers = df.query('30<Age<40 and BloodPressure>0').BloodPressure.values\n",
    "_ = plt.boxplot([outliers, inliers], patch_artist=True, labels=['outliers', 'inliers'])\n",
    "plt.xticks(fontsize=20)\n",
    "plt.grid(True)\n",
    "plt.title('Boxplots of Blood Pressure for Age Inliers and Outliers', fontsize=18)\n",
    "plt.ylabel('Blood Pressure', fontsize=18)"
   ]
  },
  {
   "cell_type": "markdown",
   "metadata": {},
   "source": [
    "### *Exercise*: What can we say about these two distributions?\n",
    "Using only 'inliers' and 'outliers', how else can we compare them?"
   ]
  },
  {
   "cell_type": "code",
   "execution_count": null,
   "metadata": {},
   "outputs": [],
   "source": [
    "# Visualize the distributions"
   ]
  },
  {
   "cell_type": "markdown",
   "metadata": {},
   "source": [
    "## The Histogram\n",
    "Histograms are the workhorse of univariate visualization.  They can be used in a number of different ways to dissect and explore your data.  Still, one must understand the potential limitations of a histogram to prevent misleading conclusions or inaccurate comparisons."
   ]
  },
  {
   "cell_type": "code",
   "execution_count": null,
   "metadata": {},
   "outputs": [],
   "source": [
    "# Before we play with histograms, lets first bin the our dataframe to reflect our earlier analysis.\n",
    "bp_young = df.query('Age<22 and BloodPressure>0').BloodPressure\n",
    "bp_old = df.query('Age>60 and BloodPressure>0').BloodPressure\n",
    "bp_mid = df.query('30<Age<40 and BloodPressure>0').BloodPressure"
   ]
  },
  {
   "cell_type": "markdown",
   "metadata": {},
   "source": [
    "### *Exercise:* Compare bp_young and bp_old using histograms to highlight shape differences."
   ]
  },
  {
   "cell_type": "code",
   "execution_count": null,
   "metadata": {
    "code_folding": []
   },
   "outputs": [],
   "source": [
    "# make histogram comparison here \n"
   ]
  },
  {
   "cell_type": "markdown",
   "metadata": {},
   "source": [
    "### Binning Decisions\n",
    "The number and size of bins in a histogram has a large effect on what we see.  How can choose a binning that accurately captures the underlying data distribution?"
   ]
  },
  {
   "cell_type": "code",
   "execution_count": null,
   "metadata": {
    "scrolled": false
   },
   "outputs": [],
   "source": [
    "# Plot BloodPressure, varying the binning method\n",
    "for n in [1,5,10,20,50,100,'auto']:\n",
    "    plt.figure()\n",
    "    df.BloodPressure.hist(bins=n)\n",
    "    plt.title(f'bins={n}')"
   ]
  },
  {
   "cell_type": "markdown",
   "metadata": {},
   "source": [
    "### Statistical Error\n",
    "The number of entries is directly related to the statistical power of the distribution.  If we assume each histogram bin arrives from a poisson process, then the statistical error for each bin can be approximated as sqrt(n_i) for i bins. See \n"
   ]
  },
  {
   "cell_type": "code",
   "execution_count": null,
   "metadata": {},
   "outputs": [],
   "source": [
    "from skhep.visual.mpl_plotter import MplPlotter as skplt"
   ]
  },
  {
   "cell_type": "code",
   "execution_count": null,
   "metadata": {},
   "outputs": [],
   "source": [
    "fig, ax = plt.subplots(1,2, figsize=(15,8))\n",
    "skplt.hist(df.BloodPressure[0:100], alpha=0.5, bins=15, errorbars=True, err_style='line', ax=ax[0])\n",
    "ax[0].set_title('Hist With Errorbars (few data)')\n",
    "ax[0].set_ylabel('Counts')\n",
    "ax[0].set_xlabel('Blood Pressure')\n",
    "skplt.hist(df.BloodPressure, alpha=0.5, bins=15, errorbars=True, err_style='line', ax=ax[1], color='C1')\n",
    "ax[1].set_title('Hist With Errorbars (more data)')\n",
    "ax[1].set_ylabel('Counts')\n",
    "ax[1].set_xlabel('Blood Pressure')"
   ]
  }
 ],
 "metadata": {
  "kernelspec": {
   "display_name": "Python 3",
   "language": "python",
   "name": "python3"
  },
  "language_info": {
   "codemirror_mode": {
    "name": "ipython",
    "version": 3
   },
   "file_extension": ".py",
   "mimetype": "text/x-python",
   "name": "python",
   "nbconvert_exporter": "python",
   "pygments_lexer": "ipython3",
   "version": "3.6.7"
  },
  "toc": {
   "base_numbering": 1,
   "nav_menu": {},
   "number_sections": true,
   "sideBar": true,
   "skip_h1_title": true,
   "title_cell": "Table of Contents",
   "title_sidebar": "Contents",
   "toc_cell": true,
   "toc_position": {
    "height": "calc(100% - 180px)",
    "left": "10px",
    "top": "150px",
    "width": "315px"
   },
   "toc_section_display": true,
   "toc_window_display": true
  }
 },
 "nbformat": 4,
 "nbformat_minor": 2
}
