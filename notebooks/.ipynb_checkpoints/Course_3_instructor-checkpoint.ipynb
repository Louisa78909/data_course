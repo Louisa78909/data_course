{
 "cells": [
  {
   "cell_type": "markdown",
   "metadata": {
    "toc": true
   },
   "source": [
    "<h1>Table of Contents<span class=\"tocSkip\"></span></h1>\n",
    "<div class=\"toc\"><ul class=\"toc-item\"><li><span><a href=\"#Initial-Setup\" data-toc-modified-id=\"Initial-Setup-1\"><span class=\"toc-item-num\">1&nbsp;&nbsp;</span>Initial Setup</a></span><ul class=\"toc-item\"><li><span><a href=\"#Loading-data-into-a-DataFrame\" data-toc-modified-id=\"Loading-data-into-a-DataFrame-1.1\"><span class=\"toc-item-num\">1.1&nbsp;&nbsp;</span>Loading data into a DataFrame</a></span></li></ul></li><li><span><a href=\"#Categorical-Data-and-Organizing\" data-toc-modified-id=\"Categorical-Data-and-Organizing-2\"><span class=\"toc-item-num\">2&nbsp;&nbsp;</span>Categorical Data and Organizing</a></span><ul class=\"toc-item\"><li><span><a href=\"#Understanding-our-columns\" data-toc-modified-id=\"Understanding-our-columns-2.1\"><span class=\"toc-item-num\">2.1&nbsp;&nbsp;</span>Understanding our columns</a></span><ul class=\"toc-item\"><li><span><a href=\"#Exercise:-How-do-I-visualize-all-possible-categorical-values-for-a-particular-category?\" data-toc-modified-id=\"Exercise:-How-do-I-visualize-all-possible-categorical-values-for-a-particular-category?-2.1.1\"><span class=\"toc-item-num\">2.1.1&nbsp;&nbsp;</span><em>Exercise</em>: How do I visualize all possible categorical values for a particular category?</a></span></li></ul></li><li><span><a href=\"#Selection-and-Ordering\" data-toc-modified-id=\"Selection-and-Ordering-2.2\"><span class=\"toc-item-num\">2.2&nbsp;&nbsp;</span>Selection and Ordering</a></span><ul class=\"toc-item\"><li><span><a href=\"#Exercise:-How-do-I-replace-the-useless-index-number-with-a-series-of-unique-identifiers-from-the-data-columns?\" data-toc-modified-id=\"Exercise:-How-do-I-replace-the-useless-index-number-with-a-series-of-unique-identifiers-from-the-data-columns?-2.2.1\"><span class=\"toc-item-num\">2.2.1&nbsp;&nbsp;</span><em>Exercise</em>: How do I replace the useless index number with a series of unique identifiers from the data columns?</a></span></li></ul></li></ul></li></ul></div>"
   ]
  },
  {
   "cell_type": "markdown",
   "metadata": {},
   "source": [
    "# Exploratory Analysis with Interactive Visualization: Rats, Plague, and NYC\n",
    "This course will cover a slew a visualization techniques that can be used during exploratory analysis.  Our goal is simple, **find the most rat-infested regions in NYC\\***.  Using only the dataset provided and our visualization/data science tools, we will step through the data in order to understand its features and facets.  At the end, we'll try to find a nice restaurant to eat at that has a low chance of rat-related activities.\n",
    "\n",
    "The dataset was sourced from this repo: https://data.cityofnewyork.us/Health/Rodent-Inspection/p937-wjvj\n",
    "\n",
    "\n",
    "\\**This is not an official endorsement or criticism of any particular NYC establishment, this is simply a fun exercise.*"
   ]
  },
  {
   "cell_type": "markdown",
   "metadata": {},
   "source": [
    "## Initial Setup\n",
    "Loading in our packages, loading in our data, and making sure everything looks good."
   ]
  },
  {
   "cell_type": "code",
   "execution_count": null,
   "metadata": {},
   "outputs": [],
   "source": [
    "%matplotlib inline "
   ]
  },
  {
   "cell_type": "code",
   "execution_count": null,
   "metadata": {},
   "outputs": [],
   "source": [
    "# Basic imports\n",
    "import numpy as np\n",
    "import pandas as pd\n",
    "\n",
    "import matplotlib.pyplot as plt\n",
    "plt.rcParams['figure.figsize'] = (10,8)\n",
    "\n",
    "import holoviews as hv\n",
    "from holoviews import opts\n",
    "import datashader as ds\n",
    "import geoviews as gv\n",
    "from holoviews.operation.datashader import datashade, rasterize, dynspread\n",
    "from geoviews.tile_sources import EsriImagery, OSM\n",
    "import cartopy.crs as crs\n",
    "pd.options.display.max_columns = 100\n",
    "\n",
    "hv.extension('bokeh', 'matplotlib', width=\"600\")\n"
   ]
  },
  {
   "cell_type": "markdown",
   "metadata": {},
   "source": [
    "### Loading data into a DataFrame\n",
    "This time around, we're starting with our pickle:"
   ]
  },
  {
   "cell_type": "code",
   "execution_count": null,
   "metadata": {},
   "outputs": [],
   "source": [
    "df = pd.read_pickle('../data_sets/rats.p')\n",
    "# or use pd.read_pickle('/pghbio/dbmi/batmanlab/bpollack/data_course/data_sets/rats.p')\n",
    "df.head() # View the first five rows"
   ]
  },
  {
   "cell_type": "markdown",
   "metadata": {},
   "source": [
    "## Categorical Data and Organizing \n",
    "Now that we've convinced ourselves that our dataset definitely contains locations information about NYC, we should take a look at the content of the other columns.  Is every individual point a rat? A building? Something else altogether?  Do high density regions really mean they are infested with rats?"
   ]
  },
  {
   "cell_type": "markdown",
   "metadata": {},
   "source": [
    "### Understanding our columns"
   ]
  },
  {
   "cell_type": "code",
   "execution_count": null,
   "metadata": {
    "scrolled": true
   },
   "outputs": [],
   "source": [
    "# Take a look at our dataframe again\n",
    "df.head()"
   ]
  },
  {
   "cell_type": "markdown",
   "metadata": {},
   "source": [
    "That first column, \"INSPECTION_TYPE\", seems important.  What does it mean? How many possible values are there?  How about the \"RESULT\" category?"
   ]
  },
  {
   "cell_type": "code",
   "execution_count": null,
   "metadata": {},
   "outputs": [],
   "source": [
    "print(df.INSPECTION_TYPE.unique())\n",
    "print(df.RESULT.unique())"
   ]
  },
  {
   "cell_type": "markdown",
   "metadata": {},
   "source": [
    "From the openNYC site:\n",
    "1. INSPECTION_TYPE\n",
    "    1. Initial Inspection - Inspection conducted in response to a 311 complaint, or a proactive inspection conducted through our neighborhood indexing program.\n",
    "    2. Compliance Inspection - If a property fails its initial inspection, the Health Department will conduct a follow up (Compliance) inspection.\n",
    "    3. Baiting - Application of rodenticide, or monitoring visit by a Health Department Pest Control Professional.\n",
    "    4. Clean Up - The removal of garbage and clutter from a property by the Health Department.\n",
    "2. RESULTS\n",
    "    1. Active Rat Signs (ARS) - ARS include any of six different signs: 1) fresh tracks, 2) fresh droppings, 3) active burrows, 4) active runways and rub marks, 5) fresh gnawing marks, and 6) live rats.\n",
    "    2. Problem Conditions - Problem conditions include garbage (poor containerization of food waste resulting in the feeding of rats), harborage (clutter and dense vegetation promoting the nesting of rats), and mice.\n",
    "\n",
    "This tells us some interesting info about the potential data points.  Not all points mean rats abound! Lets try to visualize these categories so we can better understand their relationships and distributions. "
   ]
  },
  {
   "cell_type": "markdown",
   "metadata": {},
   "source": [
    "#### *Exercise*: How do I visualize all possible categorical values for a particular category?"
   ]
  },
  {
   "cell_type": "code",
   "execution_count": null,
   "metadata": {
    "code_folding": [
     0
    ]
   },
   "outputs": [],
   "source": [
    "# make plots here\n",
    "df.INSPECTION_TYPE.value_counts().plot(kind='barh', logx=True)\n",
    "plt.title('Inspection Type')\n",
    "plt.xlabel('Counts')\n",
    "plt.figure()\n",
    "df.RESULT.value_counts().plot(kind='barh', logx=True)\n",
    "plt.title('Result')\n",
    "plt.xlabel('Counts')\n",
    "# Question: Why are we using logx here?"
   ]
  },
  {
   "cell_type": "markdown",
   "metadata": {},
   "source": [
    "These plots tell us something very interesting: Most entries are Initial Inspections, and most Passed Inspection!  So our heatmaps don't really depict a rat-ridden city, but rather a city that's very proactive about inspection and rat-related cleanliness.  It would be nice, however, to see how inspections are broken down by result type."
   ]
  },
  {
   "cell_type": "code",
   "execution_count": null,
   "metadata": {
    "code_folding": [
     0
    ]
   },
   "outputs": [],
   "source": [
    "# This is a useful trick for generating a dataframe that groups two categorical values to visualize the relative breakdown.\n",
    "# The order goes: GroupBy, Select Top Level Category, Count Aggregation, Unstack Sub Category, Fill in missing values with 0\n",
    "# Magic Code\n",
    "df_inspect_res = df.groupby(['INSPECTION_TYPE', 'RESULT'])['INSPECTION_TYPE'].count().unstack('RESULT').fillna(0)"
   ]
  },
  {
   "cell_type": "code",
   "execution_count": null,
   "metadata": {},
   "outputs": [],
   "source": [
    "df_inspect_res"
   ]
  },
  {
   "cell_type": "code",
   "execution_count": null,
   "metadata": {
    "code_folding": []
   },
   "outputs": [],
   "source": [
    "# Make Plot\n",
    "df_inspect_res.plot(kind='barh', stacked=True)\n",
    "plt.title('Inspection and Result')\n",
    "plt.xlabel('Counts')"
   ]
  },
  {
   "cell_type": "markdown",
   "metadata": {},
   "source": [
    "This shows us what we want... to a degree.  We can't see the values for CLEAN_UPS because there are too few to show up.  Why should/shouldn't we use `logx`?  What else could we do? What else could we improve?"
   ]
  },
  {
   "cell_type": "code",
   "execution_count": null,
   "metadata": {},
   "outputs": [],
   "source": [
    "# We need to reshape our dataframe and stick it into a holoviews table to produce the same plot...\n",
    "s_inpect_res = df_inspect_res.unstack()\n",
    "s_inpect_res.name='counts'\n",
    "s_inpect_res\n",
    "table_inspect_res= hv.Table(s_inpect_res, ['INSPECTION_TYPE', 'RESULT'], 'counts')\n",
    "\n",
    "table_inspect_res"
   ]
  },
  {
   "cell_type": "code",
   "execution_count": null,
   "metadata": {
    "code_folding": []
   },
   "outputs": [],
   "source": [
    "# Fancy Plot\n",
    "hv.Bars(table_inspect_res, ['INSPECTION_TYPE', 'RESULT'], 'counts').opts(color=hv.Cycle('Category20'), show_legend=True, stacked=True, \n",
    "              tools=['hover'], width=800, height=500, invert_axes=True, legend_position='bottom_right')"
   ]
  },
  {
   "cell_type": "markdown",
   "metadata": {},
   "source": [
    "We now have an interactive plot, and we can easily see the breakdown based on inspection and results.  We can use this info and start narrowing down on the rattiest part of NYC."
   ]
  },
  {
   "cell_type": "code",
   "execution_count": null,
   "metadata": {},
   "outputs": [],
   "source": [
    "import hvplot\n",
    "import hvplot.pandas\n",
    "\n",
    "pd.options.plotting.backend = 'hvplot'"
   ]
  },
  {
   "cell_type": "code",
   "execution_count": null,
   "metadata": {},
   "outputs": [],
   "source": [
    "df_inspect_res.plot(kind='barh', stacked=True)"
   ]
  },
  {
   "cell_type": "markdown",
   "metadata": {},
   "source": [
    "### Selection and Ordering\n",
    "The above plots tell us a lot about rat-related activity in NYC.  We can see that most buildings pass inspection on the initial pass, but some do not.  Any \"compliance\" entry implies that a building failed its initial inspection.  What do the typical pathways look like for a building that passes (or doesn't pass) initial inspection?"
   ]
  },
  {
   "cell_type": "code",
   "execution_count": null,
   "metadata": {},
   "outputs": [],
   "source": [
    "# Lets grab the first the location and find all incidents related that location\n",
    "df.head()"
   ]
  },
  {
   "cell_type": "code",
   "execution_count": null,
   "metadata": {
    "code_folding": [
     0
    ]
   },
   "outputs": [],
   "source": [
    "# Get a location\n",
    "test_loc = df.iloc[0].LOCATION\n",
    "print(test_loc)"
   ]
  },
  {
   "cell_type": "code",
   "execution_count": null,
   "metadata": {
    "code_folding": [
     0
    ]
   },
   "outputs": [],
   "source": [
    "# Get a location\n",
    "df.query(f'LOCATION==\"{test_loc}\"')"
   ]
  },
  {
   "cell_type": "markdown",
   "metadata": {},
   "source": [
    "There are over 1000 entries here. Either we've stumbled upon a very ratty building, or we aren't selecting what we think we are.  In fact, the \"LOCATION\" variable does not seem to have enough resolution to discriminate between buildings in the same vicinity.  We can, however, ID each building uniquely, if we use enough info from the provided columns.  We can also use this info to group and sort our data in a human-readable way, by taking advantage of MultiIndexing."
   ]
  },
  {
   "cell_type": "markdown",
   "metadata": {},
   "source": [
    "#### *Exercise*: How do I replace the useless index number with a series of unique identifiers from the data columns?"
   ]
  },
  {
   "cell_type": "code",
   "execution_count": null,
   "metadata": {
    "code_folding": [
     0
    ]
   },
   "outputs": [],
   "source": [
    "# How do I change the index? \n",
    "df.set_index(['BORO_CODE', 'BLOCK', 'LOT', 'HOUSE_NUMBER']).sort_values(['BORO_CODE', 'BLOCK', 'LOT', 'HOUSE_NUMBER'])"
   ]
  },
  {
   "cell_type": "markdown",
   "metadata": {},
   "source": [
    "Note, as per the dataset description, \"BBL\" is a unique number that is equivalent to a Boro, Block, and Lot.  However, at least in this dataset, there does not seem to be a 1-1 correspondence between BBL and the Boro, Block, Lot numbers."
   ]
  },
  {
   "cell_type": "markdown",
   "metadata": {},
   "source": [
    "Regardless, lets use BBL and House Number as our unique IDs, and then choose a selection of entries belonging to one of those."
   ]
  },
  {
   "cell_type": "code",
   "execution_count": null,
   "metadata": {},
   "outputs": [],
   "source": [
    "df = df.set_index(['BBL', 'HOUSE_NUMBER', 'STREET_NAME']).sort_values(['BBL', 'HOUSE_NUMBER'])"
   ]
  },
  {
   "cell_type": "code",
   "execution_count": null,
   "metadata": {},
   "outputs": [],
   "source": [
    "df.head()"
   ]
  },
  {
   "cell_type": "markdown",
   "metadata": {},
   "source": [
    "Let's look at 100 West 105 St, an apartment building in the Upper West Side (https://locality.nyc/#40.7985809,-73.9637655,15z,100%20W%20105th%20St,%20Manhattan)."
   ]
  },
  {
   "cell_type": "code",
   "execution_count": null,
   "metadata": {},
   "outputs": [],
   "source": [
    "df_west105 = df.query('BBL==\"1\" and HOUSE_NUMBER==\"100\"')[['INSPECTION_TYPE', 'RESULT', 'INSPECTION_DATE', 'JOB_ID', 'JOB_PROGRESS']]\n",
    "df_west105"
   ]
  },
  {
   "cell_type": "markdown",
   "metadata": {},
   "source": [
    "We can see some ongoing rat problems, and multiple instances (4 \"INITIAL\" inspections, for example).  We should order these as well."
   ]
  },
  {
   "cell_type": "code",
   "execution_count": null,
   "metadata": {},
   "outputs": [],
   "source": [
    "df_west105.sort_values(['INSPECTION_DATE'])"
   ]
  },
  {
   "cell_type": "markdown",
   "metadata": {},
   "source": [
    "Luckily, each rat instance has a unique JOB_ID, and a JOB_PROGRESS number.  Surprisingly (to me, at least), some of these interactions end without any clear resolution: Bait Applied or Active Rat Signs are the final listed outcome.  We'll ignore that for now, but it's certainly something we'd note if we were doing a real study.  Here's an important question: How unusual is it to have 8 (or more) instances for a single JOB_ID? We're getting close to narrowing down our search for the rat epicenters of NYC."
   ]
  },
  {
   "cell_type": "markdown",
   "metadata": {},
   "source": []
  }
 ],
 "metadata": {
  "kernelspec": {
   "display_name": "Python 3",
   "language": "python",
   "name": "python3"
  },
  "language_info": {
   "codemirror_mode": {
    "name": "ipython",
    "version": 3
   },
   "file_extension": ".py",
   "mimetype": "text/x-python",
   "name": "python",
   "nbconvert_exporter": "python",
   "pygments_lexer": "ipython3",
   "version": "3.6.7"
  },
  "toc": {
   "base_numbering": 1,
   "nav_menu": {},
   "number_sections": true,
   "sideBar": true,
   "skip_h1_title": true,
   "title_cell": "Table of Contents",
   "title_sidebar": "Contents",
   "toc_cell": true,
   "toc_position": {
    "height": "calc(100% - 180px)",
    "left": "10px",
    "top": "150px",
    "width": "333px"
   },
   "toc_section_display": true,
   "toc_window_display": true
  }
 },
 "nbformat": 4,
 "nbformat_minor": 2
}
