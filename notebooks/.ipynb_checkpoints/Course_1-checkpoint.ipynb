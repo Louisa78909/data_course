{
 "cells": [
  {
   "cell_type": "markdown",
   "metadata": {},
   "source": [
    "# Practical Exploratory Data Analysis"
   ]
  },
  {
   "cell_type": "markdown",
   "metadata": {},
   "source": [
    "## Course 1: Setup, Environment, Backups, Reproducibility"
   ]
  },
  {
   "cell_type": "markdown",
   "metadata": {},
   "source": [
    "The goal of this series of courses is to act as a guide for exploratory data analysis (EDA), using practical, interactive examples.  In particular, the following skills, techniques, and concepts will be emphasized:\n",
    "\n",
    "1. Introductory Tasks.\n",
    "    1. Setting up an appropriate workspace.\n",
    "    1. The benefits of virtual environments.\n",
    "    1. Versioning, redundancy, and reproducibility.\n",
    "    1. Style and organization.\n",
    "1. Basic Analysis Tools.\n",
    "    1. I/O and manipulation.\n",
    "    1. Visualization.\n",
    "    1. "
   ]
  },
  {
   "cell_type": "markdown",
   "metadata": {},
   "source": [
    "## PSC Startup\n",
    "\n",
    "This course is intended to be taken on an [interactive node](https://www.psc.edu/bridges/user-guide/running-jobs) on the Pittsburgh Supercomputing Cluster.  Before we start up our Jupyter Notebooks, we must first make sure our PSC working area is set up correctly, along with the necessary tools."
   ]
  },
  {
   "cell_type": "markdown",
   "metadata": {},
   "source": [
    "### Recommended Prior to Installation:\n",
    "1. `module load git` -> loads a recent version of git, needed for checking out software.\n",
    "1. Making a \".condarc\" file.  I suggest:\n",
    "```shell\n",
    "# Specify where to place environments and packages\n",
    " envs_dirs:\n",
    "   - /path/to/conda_envs\n",
    "\n",
    " pkgs_dirs:\n",
    "   - /path/to/conda_envs/pkgs```\n",
    "Make these directories in areas in which you have a lot of space (not /home/username).  You are only granted 10 GB of space on home, and checking out large conda packages can quickly use it all up.  Make sure `~/.conda/pkgs` is set to read-only mode, as conda may still try to use that as a default package download location if it exists.\n",
    "1. Symlink your other directories to your home (`ln -s /path/to/other/userspace /home/username`).  You'll be doing most of your work outside of \"home\", so it makes sense to easily navigate to those areas."
   ]
  },
  {
   "cell_type": "markdown",
   "metadata": {},
   "source": [
    "### Loading Interactive Node and Anaconda\n",
    "We need some computing power to handle the upcoming tasks.  We will use an interactive cpu node to provide that power.  \n",
    "```shell\n",
    "interact -p RM --egress -t 02:00:00 -A XXXXXX --mem=120GB\n",
    "module load AI/anaconda3-5.1.0_gpu\n",
    "cd /my/working/dir```\n",
    "\n",
    "If this is the first time we're starting up, we'll need to grab the course from github and set up the environment:\n",
    "```shell\n",
    "git clone pollackscience:data_course\n",
    "cd data_course\n",
    "conda env create -f environment.yml\n",
    "```\n",
    "\n",
    "Otherwise, load up the existing environment:\n",
    "```shell\n",
    "source activate data_course\n",
    "```"
   ]
  },
  {
   "cell_type": "markdown",
   "metadata": {},
   "source": [
    "# Minimizing Painful Surprises\n",
    "\n",
    "Unexpected and unintentional changes can derail data science projects.  As you saw when beginning this course, dozens of packages were downloaded and installed, many of which will never be directly used, but are required dependencies for the top-level packages.  Extremely complex and multifaceted software is necessary for machine learning research, and that software is not static.  Functions become deprecated and eventually removed, default parameters change, expected behavior is updated, and (of course) bugs are fixed.  Any of these changes can impact your active project.  The impact may be minor or negligible, but it could leave you wondering whether you introduced a bug, or the world simply shifted around you.  The following tips are intended to preserve the integrity of your projects and your peace of mind."
   ]
  },
  {
   "cell_type": "markdown",
   "metadata": {},
   "source": [
    "## Virtual Environments\n",
    "Virtual environments are an excellent way to separate out your projects, and prevent them from interfering with one another, or with your system in general.  A virtual environment isolates projects from each one another on the same infrastructure.  Each project consists of its own software, packages, paths, variables, etc.  A virtual environment prevents changes in one project from affecting another.  Therefore, the following rule should always be followed:\n",
    "- **Every project must live in its own virtual environment**\n",
    "\n",
    "Python projects typically use one of two virtual environment managers: [virtualenv](https://virtualenv.pypa.io/en/latest/) and [conda envs](https://conda.io/docs/user-guide/tasks/manage-environments.html#).  As we are already relying on Anaconda to manage our python installations and dependencies on PSC, we will focus primarily on the latter.  Using `virtualenv` and `conda` together can lead to conflicts, so it's best to choose one or the other and stick with it.  PSC and Bridges provides a helpful website on the details of their conda installation and recommendations for creating virtual environments with the pre-configured ML software: https://www.psc.edu/user-resources/software/anaconda"
   ]
  },
  {
   "cell_type": "markdown",
   "metadata": {},
   "source": [
    "## Version Control and Github\n",
    "Whether working on solo projects or collaborative efforts, software versioning is a must.  As projects grow and increase in complexity, so does the chance that bugs and other misfortunes will strike.  Version control allows a developer to manage and track the changes in their software, which can help with:\n",
    "- Recovering accidentally deleted work.\n",
    "- Undoing bugs of unknown origin.\n",
    "- Separating large-scale development into smaller tasks.\n",
    "- Preventing multiple developers from writing conflicting software.\n",
    "- Improving ease of code sharing and collaboration.\n",
    "- Impressing future employers with your portfolio.\n",
    "\n",
    "Github is currently the most popular and widely used version control software "
   ]
  },
  {
   "cell_type": "code",
   "execution_count": null,
   "metadata": {},
   "outputs": [],
   "source": []
  }
 ],
 "metadata": {
  "celltoolbar": "Raw Cell Format",
  "kernelspec": {
   "display_name": "Python 3",
   "language": "python",
   "name": "python3"
  },
  "language_info": {
   "codemirror_mode": {
    "name": "ipython",
    "version": 3
   },
   "file_extension": ".py",
   "mimetype": "text/x-python",
   "name": "python",
   "nbconvert_exporter": "python",
   "pygments_lexer": "ipython3",
   "version": "3.7.1"
  }
 },
 "nbformat": 4,
 "nbformat_minor": 2
}
