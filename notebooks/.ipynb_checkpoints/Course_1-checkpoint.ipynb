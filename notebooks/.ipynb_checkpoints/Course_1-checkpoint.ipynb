{
 "cells": [
  {
   "cell_type": "markdown",
   "metadata": {},
   "source": [
    "# Practical Exploratory Data Analysis"
   ]
  },
  {
   "cell_type": "markdown",
   "metadata": {},
   "source": [
    "## Course 1: Setup, Environment, Backups, Reproducibility"
   ]
  },
  {
   "cell_type": "markdown",
   "metadata": {},
   "source": [
    "## 1. PSC Startup\n",
    "\n",
    "This course is intended to be taken on an [interactive node](https://www.psc.edu/bridges/user-guide/running-jobs) on the Pittsburgh Supercomputing Cluster.  Before we start up our Jupyter Notebooks, we must first make sure our PSC working area is set up correctly, along with the necessary tools."
   ]
  },
  {
   "cell_type": "markdown",
   "metadata": {},
   "source": [
    "### 1.1 Recommended Prior to Installation:\n",
    "1. `module load git` -> loads a recent version of git, needed for checking out software.\n",
    "1. Making a \".condarc\" file.  I suggest:\n",
    "```shell\n",
    "# Specify where to place environments and packages\n",
    " envs_dirs:\n",
    "   - /path/to/conda_envs\n",
    "\n",
    " pkgs_dirs:\n",
    "   - /path/to/conda_envs/pkgs```\n",
    "Make these directories in areas in which you have a lot of space (not /home/username).  You are only granted 10 GB of space on home, and checking out large conda packages can quickly use it all up.  Make sure `~/.conda/pkgs` is set to read-only mode, as conda may still try to use that as a default package download location if it exists.\n",
    "1. Symlink your other directories to your home (`ln -s /path/to/other/userspace /home/username`).  You'll be doing most of your work outside of \"home\", so it makes sense to easily navigate to those areas."
   ]
  },
  {
   "cell_type": "markdown",
   "metadata": {},
   "source": [
    "### 1.2 Loading Interactive Node and Anaconda\n",
    "We need some computing power to handle the upcoming tasks.  We will use an interactive cpu node to provide that power.  \n",
    "```shell\n",
    "interact -p RM --egress -t 02:00:00 -A XXXXXX --mem=120GB\n",
    "module load AI/anaconda3-5.1.0_gpu\n",
    "cd /my/working/dir```\n",
    "\n",
    "If this is the first time we're starting up, we'll need to grab the course from github and set up the environment:\n",
    "```shell\n",
    "git clone pollackscience:data_course\n",
    "cd data_course\n",
    "conda env create -f environment.yml\n",
    "```\n",
    "\n",
    "Otherwise, load up the existing environment:\n",
    "```shell\n",
    "source activate data_course\n",
    "```"
   ]
  },
  {
   "cell_type": "markdown",
   "metadata": {},
   "source": [
    "## 1.3 Juypter Notebook Startup (for PSC)\n",
    "PSC requires an additional special script to use Jupyter Notebook.  After we launch the kernel, we need a way of connecting out browser to the notebook.  This is accomplished by use of the `startupjupyter` script included in this course."
   ]
  },
  {
   "cell_type": "markdown",
   "metadata": {},
   "source": [
    "# 2. Minimizing Painful Surprises\n",
    "\n",
    "Unexpected and unintentional changes can derail data science projects.  As you saw when beginning this course, dozens of packages were downloaded and installed, many of which will never be directly used, but are required dependencies for the top-level packages.  Extremely complex and multifaceted software is necessary for machine learning research, and that software is not static.  Functions become deprecated and eventually removed, default parameters change, expected behavior is updated, and (of course) bugs are fixed.  Any of these changes can impact your active project.  The impact may be minor or negligible, but it could leave you wondering whether you introduced a bug, or the world simply shifted around you.  The following tips are intended to preserve the integrity of your projects and your peace of mind."
   ]
  },
  {
   "cell_type": "markdown",
   "metadata": {},
   "source": [
    "## 2.1 Virtual Environments\n",
    "Virtual environments are an excellent way to separate out your projects, and prevent them from interfering with one another, or with your system in general.  A virtual environment isolates projects from each one another on the same infrastructure.  Each project consists of its own software, packages, paths, variables, etc.  A virtual environment prevents changes in one project from affecting another.  Therefore, the following rule should always be followed:\n",
    "- **Every project must live in its own virtual environment**\n",
    "\n",
    "Python projects typically use one of two virtual environment managers: [virtualenv](https://virtualenv.pypa.io/en/latest/) and [conda envs](https://conda.io/docs/user-guide/tasks/manage-environments.html#).  As we are already relying on Anaconda to manage our python installations and dependencies on PSC, we will focus primarily on the latter.  Using `virtualenv` and `conda` together can lead to conflicts, so it's best to choose one or the other and stick with it.  PSC and Bridges provides a helpful website on the details of their conda installation and recommendations for creating virtual environments with the pre-configured ML software: https://www.psc.edu/user-resources/software/anaconda"
   ]
  },
  {
   "cell_type": "markdown",
   "metadata": {},
   "source": [
    "```shell\n",
    "# Exporting your current environment to share with collaborators:\n",
    "conda env export -p /hard/path/to/conda_envs/data_course > environment.yml\n",
    "```"
   ]
  },
  {
   "cell_type": "markdown",
   "metadata": {},
   "source": [
    "```shell\n",
    "# Download a new package that has a large ripple effect on already-installed packages:\n",
    "conda install pytorch\n",
    "# wait for install to complete....\n",
    "# ....\n",
    "# Install has changed a bunch of packages and installed a bunch of dependencies.\n",
    "# List the revisions to tell us how to roll back:\n",
    "conda list --revisions\n",
    "# list of revisions, lets undo what we just did and install the next-to-most-recent rev:\n",
    "conda install --revision XX\n",
    "# wait for install, we've successfully reverted our working environment and hopefully averted disaster!\n",
    "```\n"
   ]
  },
  {
   "cell_type": "markdown",
   "metadata": {},
   "source": [
    "## 2.2 Version Control and Github\n",
    "Whether working on solo projects or collaborative efforts, software versioning is a must.  As projects grow and increase in complexity, so does the chance that bugs and other misfortunes will strike.  Version control allows a developer to manage and track the changes in their software, which can help with:\n",
    "- Recovering accidentally deleted work.\n",
    "- Undoing bugs of unknown origin.\n",
    "- Separating large-scale development into smaller tasks.\n",
    "- Preventing multiple developers from writing conflicting software.\n",
    "- Improving ease of code sharing and collaboration.\n",
    "- Impressing future employers with your portfolio.\n",
    "\n",
    "\"Git\" is currently the most popular and widely used version control software, and is typically used in conjunction with the [Github](github.com) hosting service.  If you do not have a github account, I highly suggest creating one now.  If you are unfamiliar with git and github, there are hundreds of useful tutorials on the web.  The three most commonly used commands when developing are:\n",
    "```shell\n",
    "git add <files>\n",
    "git commit -m \"my commit message\"\n",
    "git push```\n",
    "\n",
    "These commands add changed files to your current git staging area, stores that info in a new commit (along with a commit message), and then pushes that commit to your remote repository (typically your github account).\n",
    "- **add, commit, and push your work frequently**\n",
    "\n",
    "There is very little benefit from versioning if you don't actively version.  Think of it as saving your work, so you don't lose progress.  There is no downside to committing frequently, however you do want to be careful that you don't accidentally commit sensitive material to your repo, or excessively large files (including notebooks with large embedded images or plots)."
   ]
  },
  {
   "cell_type": "markdown",
   "metadata": {},
   "source": [
    "## 2.3 Unit Testing\n",
    "\n",
    "Validation of results is integral to any data science project, and this concept translates to software development as well.  How do you know if an innocuous change to the code-base unintentionally affected the results?  You would have to run a segment of your code, and then analyze the output against a known quantity.  This process can be automated, and falls under the category of \"unit testing\".  The package [pytest](https://docs.pytest.org/en/latest/) is a popular and easy-to-use choice for performing unit tests, and once set-up, can be invoked with a single command."
   ]
  },
  {
   "cell_type": "markdown",
   "metadata": {},
   "source": [
    "Investigate the `tests/test_example.py` file, and run these commands:\n",
    "```shell\n",
    "pytest -k ex0\n",
    "pytest -k ex1\n",
    "pytest -k ex2\n",
    "pytest -k ex3\n",
    "pytest```\n"
   ]
  },
  {
   "cell_type": "markdown",
   "metadata": {},
   "source": [
    "## 2.4 Debugging with **pdb**"
   ]
  },
  {
   "cell_type": "code",
   "execution_count": 1,
   "metadata": {},
   "outputs": [
    {
     "name": "stdout",
     "output_type": "stream",
     "text": [
      "> \u001b[0;32m<ipython-input-1-ec44d5f369dd>\u001b[0m(6)\u001b[0;36mcomplicated_function\u001b[0;34m()\u001b[0m\n",
      "\u001b[0;32m      4 \u001b[0;31m\u001b[0;32mdef\u001b[0m \u001b[0mcomplicated_function\u001b[0m\u001b[0;34m(\u001b[0m\u001b[0mx\u001b[0m\u001b[0;34m,\u001b[0m \u001b[0my\u001b[0m\u001b[0;34m,\u001b[0m \u001b[0mz\u001b[0m\u001b[0;34m)\u001b[0m\u001b[0;34m:\u001b[0m\u001b[0;34m\u001b[0m\u001b[0;34m\u001b[0m\u001b[0m\n",
      "\u001b[0m\u001b[0;32m      5 \u001b[0;31m    \u001b[0mset_trace\u001b[0m\u001b[0;34m(\u001b[0m\u001b[0;34m)\u001b[0m\u001b[0;34m\u001b[0m\u001b[0;34m\u001b[0m\u001b[0m\n",
      "\u001b[0m\u001b[0;32m----> 6 \u001b[0;31m    \u001b[0mx\u001b[0m \u001b[0;34m=\u001b[0m \u001b[0my\u001b[0m\u001b[0;34m*\u001b[0m\u001b[0mz\u001b[0m\u001b[0;34m\u001b[0m\u001b[0;34m\u001b[0m\u001b[0m\n",
      "\u001b[0m\u001b[0;32m      7 \u001b[0;31m    \u001b[0mz\u001b[0m \u001b[0;34m=\u001b[0m \u001b[0my\u001b[0m\u001b[0;34m-\u001b[0m\u001b[0mx\u001b[0m\u001b[0;34m**\u001b[0m\u001b[0;36m2\u001b[0m\u001b[0;34m\u001b[0m\u001b[0;34m\u001b[0m\u001b[0m\n",
      "\u001b[0m\u001b[0;32m      8 \u001b[0;31m    \u001b[0my\u001b[0m \u001b[0;34m=\u001b[0m \u001b[0my\u001b[0m\u001b[0;34m*\u001b[0m\u001b[0;36m2\u001b[0m\u001b[0;34m-\u001b[0m\u001b[0my\u001b[0m\u001b[0;34m/\u001b[0m\u001b[0mz\u001b[0m\u001b[0;34m\u001b[0m\u001b[0;34m\u001b[0m\u001b[0m\n",
      "\u001b[0m\n",
      "ipdb> print(x)\n",
      "200\n",
      "ipdb> n\n",
      "> \u001b[0;32m<ipython-input-1-ec44d5f369dd>\u001b[0m(7)\u001b[0;36mcomplicated_function\u001b[0;34m()\u001b[0m\n",
      "\u001b[0;32m      5 \u001b[0;31m    \u001b[0mset_trace\u001b[0m\u001b[0;34m(\u001b[0m\u001b[0;34m)\u001b[0m\u001b[0;34m\u001b[0m\u001b[0;34m\u001b[0m\u001b[0m\n",
      "\u001b[0m\u001b[0;32m      6 \u001b[0;31m    \u001b[0mx\u001b[0m \u001b[0;34m=\u001b[0m \u001b[0my\u001b[0m\u001b[0;34m*\u001b[0m\u001b[0mz\u001b[0m\u001b[0;34m\u001b[0m\u001b[0;34m\u001b[0m\u001b[0m\n",
      "\u001b[0m\u001b[0;32m----> 7 \u001b[0;31m    \u001b[0mz\u001b[0m \u001b[0;34m=\u001b[0m \u001b[0my\u001b[0m\u001b[0;34m-\u001b[0m\u001b[0mx\u001b[0m\u001b[0;34m**\u001b[0m\u001b[0;36m2\u001b[0m\u001b[0;34m\u001b[0m\u001b[0;34m\u001b[0m\u001b[0m\n",
      "\u001b[0m\u001b[0;32m      8 \u001b[0;31m    \u001b[0my\u001b[0m \u001b[0;34m=\u001b[0m \u001b[0my\u001b[0m\u001b[0;34m*\u001b[0m\u001b[0;36m2\u001b[0m\u001b[0;34m-\u001b[0m\u001b[0my\u001b[0m\u001b[0;34m/\u001b[0m\u001b[0mz\u001b[0m\u001b[0;34m\u001b[0m\u001b[0;34m\u001b[0m\u001b[0m\n",
      "\u001b[0m\u001b[0;32m      9 \u001b[0;31m    \u001b[0mx\u001b[0m\u001b[0;34m,\u001b[0m\u001b[0my\u001b[0m\u001b[0;34m,\u001b[0m\u001b[0mz\u001b[0m \u001b[0;34m=\u001b[0m \u001b[0my\u001b[0m\u001b[0;34m%\u001b[0m\u001b[0mz\u001b[0m\u001b[0;34m,\u001b[0m\u001b[0mz\u001b[0m\u001b[0;34m//\u001b[0m\u001b[0mx\u001b[0m\u001b[0;34m,\u001b[0m \u001b[0mx\u001b[0m\u001b[0;34m+\u001b[0m\u001b[0my\u001b[0m\u001b[0;34m+\u001b[0m\u001b[0mz\u001b[0m\u001b[0;34m\u001b[0m\u001b[0;34m\u001b[0m\u001b[0m\n",
      "\u001b[0m\n",
      "ipdb> a\n",
      "x = 34.8716784548467\n",
      "y = 11.1\n",
      "z = 3.141592653589793\n",
      "ipdb> n\n",
      "> \u001b[0;32m<ipython-input-1-ec44d5f369dd>\u001b[0m(8)\u001b[0;36mcomplicated_function\u001b[0;34m()\u001b[0m\n",
      "\u001b[0;32m      6 \u001b[0;31m    \u001b[0mx\u001b[0m \u001b[0;34m=\u001b[0m \u001b[0my\u001b[0m\u001b[0;34m*\u001b[0m\u001b[0mz\u001b[0m\u001b[0;34m\u001b[0m\u001b[0;34m\u001b[0m\u001b[0m\n",
      "\u001b[0m\u001b[0;32m      7 \u001b[0;31m    \u001b[0mz\u001b[0m \u001b[0;34m=\u001b[0m \u001b[0my\u001b[0m\u001b[0;34m-\u001b[0m\u001b[0mx\u001b[0m\u001b[0;34m**\u001b[0m\u001b[0;36m2\u001b[0m\u001b[0;34m\u001b[0m\u001b[0;34m\u001b[0m\u001b[0m\n",
      "\u001b[0m\u001b[0;32m----> 8 \u001b[0;31m    \u001b[0my\u001b[0m \u001b[0;34m=\u001b[0m \u001b[0my\u001b[0m\u001b[0;34m*\u001b[0m\u001b[0;36m2\u001b[0m\u001b[0;34m-\u001b[0m\u001b[0my\u001b[0m\u001b[0;34m/\u001b[0m\u001b[0mz\u001b[0m\u001b[0;34m\u001b[0m\u001b[0;34m\u001b[0m\u001b[0m\n",
      "\u001b[0m\u001b[0;32m      9 \u001b[0;31m    \u001b[0mx\u001b[0m\u001b[0;34m,\u001b[0m\u001b[0my\u001b[0m\u001b[0;34m,\u001b[0m\u001b[0mz\u001b[0m \u001b[0;34m=\u001b[0m \u001b[0my\u001b[0m\u001b[0;34m%\u001b[0m\u001b[0mz\u001b[0m\u001b[0;34m,\u001b[0m\u001b[0mz\u001b[0m\u001b[0;34m//\u001b[0m\u001b[0mx\u001b[0m\u001b[0;34m,\u001b[0m \u001b[0mx\u001b[0m\u001b[0;34m+\u001b[0m\u001b[0my\u001b[0m\u001b[0;34m+\u001b[0m\u001b[0mz\u001b[0m\u001b[0;34m\u001b[0m\u001b[0;34m\u001b[0m\u001b[0m\n",
      "\u001b[0m\u001b[0;32m     10 \u001b[0;31m\u001b[0;34m\u001b[0m\u001b[0m\n",
      "\u001b[0m\n",
      "ipdb> a\n",
      "x = 34.8716784548467\n",
      "y = 11.1\n",
      "z = -1204.9339582582197\n",
      "ipdb> n\n",
      "> \u001b[0;32m<ipython-input-1-ec44d5f369dd>\u001b[0m(9)\u001b[0;36mcomplicated_function\u001b[0;34m()\u001b[0m\n",
      "\u001b[0;32m      7 \u001b[0;31m    \u001b[0mz\u001b[0m \u001b[0;34m=\u001b[0m \u001b[0my\u001b[0m\u001b[0;34m-\u001b[0m\u001b[0mx\u001b[0m\u001b[0;34m**\u001b[0m\u001b[0;36m2\u001b[0m\u001b[0;34m\u001b[0m\u001b[0;34m\u001b[0m\u001b[0m\n",
      "\u001b[0m\u001b[0;32m      8 \u001b[0;31m    \u001b[0my\u001b[0m \u001b[0;34m=\u001b[0m \u001b[0my\u001b[0m\u001b[0;34m*\u001b[0m\u001b[0;36m2\u001b[0m\u001b[0;34m-\u001b[0m\u001b[0my\u001b[0m\u001b[0;34m/\u001b[0m\u001b[0mz\u001b[0m\u001b[0;34m\u001b[0m\u001b[0;34m\u001b[0m\u001b[0m\n",
      "\u001b[0m\u001b[0;32m----> 9 \u001b[0;31m    \u001b[0mx\u001b[0m\u001b[0;34m,\u001b[0m\u001b[0my\u001b[0m\u001b[0;34m,\u001b[0m\u001b[0mz\u001b[0m \u001b[0;34m=\u001b[0m \u001b[0my\u001b[0m\u001b[0;34m%\u001b[0m\u001b[0mz\u001b[0m\u001b[0;34m,\u001b[0m\u001b[0mz\u001b[0m\u001b[0;34m//\u001b[0m\u001b[0mx\u001b[0m\u001b[0;34m,\u001b[0m \u001b[0mx\u001b[0m\u001b[0;34m+\u001b[0m\u001b[0my\u001b[0m\u001b[0;34m+\u001b[0m\u001b[0mz\u001b[0m\u001b[0;34m\u001b[0m\u001b[0;34m\u001b[0m\u001b[0m\n",
      "\u001b[0m\u001b[0;32m     10 \u001b[0;31m\u001b[0;34m\u001b[0m\u001b[0m\n",
      "\u001b[0m\u001b[0;32m     11 \u001b[0;31m    \u001b[0;32mreturn\u001b[0m \u001b[0;34m(\u001b[0m\u001b[0mx\u001b[0m\u001b[0;34m,\u001b[0m\u001b[0my\u001b[0m\u001b[0;34m,\u001b[0m\u001b[0mz\u001b[0m\u001b[0;34m)\u001b[0m\u001b[0;34m\u001b[0m\u001b[0;34m\u001b[0m\u001b[0m\n",
      "\u001b[0m\n",
      "ipdb> a\n",
      "x = 34.8716784548467\n",
      "y = 22.209212123140794\n",
      "z = -1204.9339582582197\n",
      "ipdb> n\n",
      "> \u001b[0;32m<ipython-input-1-ec44d5f369dd>\u001b[0m(11)\u001b[0;36mcomplicated_function\u001b[0;34m()\u001b[0m\n",
      "\u001b[0;32m      9 \u001b[0;31m    \u001b[0mx\u001b[0m\u001b[0;34m,\u001b[0m\u001b[0my\u001b[0m\u001b[0;34m,\u001b[0m\u001b[0mz\u001b[0m \u001b[0;34m=\u001b[0m \u001b[0my\u001b[0m\u001b[0;34m%\u001b[0m\u001b[0mz\u001b[0m\u001b[0;34m,\u001b[0m\u001b[0mz\u001b[0m\u001b[0;34m//\u001b[0m\u001b[0mx\u001b[0m\u001b[0;34m,\u001b[0m \u001b[0mx\u001b[0m\u001b[0;34m+\u001b[0m\u001b[0my\u001b[0m\u001b[0;34m+\u001b[0m\u001b[0mz\u001b[0m\u001b[0;34m\u001b[0m\u001b[0;34m\u001b[0m\u001b[0m\n",
      "\u001b[0m\u001b[0;32m     10 \u001b[0;31m\u001b[0;34m\u001b[0m\u001b[0m\n",
      "\u001b[0m\u001b[0;32m---> 11 \u001b[0;31m    \u001b[0;32mreturn\u001b[0m \u001b[0;34m(\u001b[0m\u001b[0mx\u001b[0m\u001b[0;34m,\u001b[0m\u001b[0my\u001b[0m\u001b[0;34m,\u001b[0m\u001b[0mz\u001b[0m\u001b[0;34m)\u001b[0m\u001b[0;34m\u001b[0m\u001b[0;34m\u001b[0m\u001b[0m\n",
      "\u001b[0m\u001b[0;32m     12 \u001b[0;31m\u001b[0;34m\u001b[0m\u001b[0m\n",
      "\u001b[0m\u001b[0;32m     13 \u001b[0;31m\u001b[0mcomplicated_function\u001b[0m\u001b[0;34m(\u001b[0m\u001b[0;36m200\u001b[0m\u001b[0;34m,\u001b[0m \u001b[0;36m11.1\u001b[0m\u001b[0;34m,\u001b[0m \u001b[0mmath\u001b[0m\u001b[0;34m.\u001b[0m\u001b[0mpi\u001b[0m\u001b[0;34m)\u001b[0m\u001b[0;34m\u001b[0m\u001b[0;34m\u001b[0m\u001b[0m\n",
      "\u001b[0m\n",
      "ipdb> a\n",
      "x = -1182.724746135079\n",
      "y = -35.0\n",
      "z = -1147.8530676802322\n",
      "ipdb> n\n",
      "--Return--\n",
      "(-1182.724746135079, -35.0, -1147.8530676802322)\n",
      "> \u001b[0;32m<ipython-input-1-ec44d5f369dd>\u001b[0m(11)\u001b[0;36mcomplicated_function\u001b[0;34m()\u001b[0m\n",
      "\u001b[0;32m      9 \u001b[0;31m    \u001b[0mx\u001b[0m\u001b[0;34m,\u001b[0m\u001b[0my\u001b[0m\u001b[0;34m,\u001b[0m\u001b[0mz\u001b[0m \u001b[0;34m=\u001b[0m \u001b[0my\u001b[0m\u001b[0;34m%\u001b[0m\u001b[0mz\u001b[0m\u001b[0;34m,\u001b[0m\u001b[0mz\u001b[0m\u001b[0;34m//\u001b[0m\u001b[0mx\u001b[0m\u001b[0;34m,\u001b[0m \u001b[0mx\u001b[0m\u001b[0;34m+\u001b[0m\u001b[0my\u001b[0m\u001b[0;34m+\u001b[0m\u001b[0mz\u001b[0m\u001b[0;34m\u001b[0m\u001b[0;34m\u001b[0m\u001b[0m\n",
      "\u001b[0m\u001b[0;32m     10 \u001b[0;31m\u001b[0;34m\u001b[0m\u001b[0m\n",
      "\u001b[0m\u001b[0;32m---> 11 \u001b[0;31m    \u001b[0;32mreturn\u001b[0m \u001b[0;34m(\u001b[0m\u001b[0mx\u001b[0m\u001b[0;34m,\u001b[0m\u001b[0my\u001b[0m\u001b[0;34m,\u001b[0m\u001b[0mz\u001b[0m\u001b[0;34m)\u001b[0m\u001b[0;34m\u001b[0m\u001b[0;34m\u001b[0m\u001b[0m\n",
      "\u001b[0m\u001b[0;32m     12 \u001b[0;31m\u001b[0;34m\u001b[0m\u001b[0m\n",
      "\u001b[0m\u001b[0;32m     13 \u001b[0;31m\u001b[0mcomplicated_function\u001b[0m\u001b[0;34m(\u001b[0m\u001b[0;36m200\u001b[0m\u001b[0;34m,\u001b[0m \u001b[0;36m11.1\u001b[0m\u001b[0;34m,\u001b[0m \u001b[0mmath\u001b[0m\u001b[0;34m.\u001b[0m\u001b[0mpi\u001b[0m\u001b[0;34m)\u001b[0m\u001b[0;34m\u001b[0m\u001b[0;34m\u001b[0m\u001b[0m\n",
      "\u001b[0m\n",
      "ipdb> c\n"
     ]
    },
    {
     "data": {
      "text/plain": [
       "(-1182.724746135079, -35.0, -1147.8530676802322)"
      ]
     },
     "execution_count": 1,
     "metadata": {},
     "output_type": "execute_result"
    }
   ],
   "source": [
    "import math\n",
    "from IPython.core.debugger import set_trace\n",
    "\n",
    "def complicated_function(x, y, z):\n",
    "    set_trace()\n",
    "    x = y*z\n",
    "    z = y-x**2\n",
    "    y = y*2-y/z\n",
    "    x,y,z = y%z,z//x, x+y+z\n",
    "    \n",
    "    return (x,y,z)\n",
    "\n",
    "complicated_function(200, 11.1, math.pi)"
   ]
  },
  {
   "cell_type": "markdown",
   "metadata": {},
   "source": [
    "# 3. General Good Habits"
   ]
  },
  {
   "cell_type": "markdown",
   "metadata": {},
   "source": [
    "## 3.1 Linting\n",
    "\n",
    "\"[Linting](https://en.wikipedia.org/wiki/Lint_%28software%29)\" is the act of running some sort of software that analyses your code and checks for syntax (or other errors).  It's a very useful tool that encourages you to write in a manner that not only runs, but looks professional.  This makes your code easier to read, debug, and understand for both yourself and your collaborators.  IDEs like [PyCharm](https://www.jetbrains.com/pycharm/) typically have [linting built in](https://www.jetbrains.com/help/pycharm/code-inspection.html), but it can also be run externally by using packages such as [Flake8](http://flake8.pycqa.org/en/latest/).  Remember, just because code runs does not mean that the output is correct!  Well-formated and consistent code will help you determine the source of an error more quickly than sifting through messy garbage code.  Your future self will thank you, your collaborators will thank you, and humanity as a whole can hold its head a little higher.\n",
    "\n",
    "Python style standards are based on the [PEP 8 (Python Enhancement Proposal 8)](https://www.python.org/dev/peps/pep-0008/) style guide.  The PEPs, in general, are where all official Python improvements and features are documented.  PEP 8 details the \"shoulds\" and \"should nots\" for Python programming and stylistic changes.  Here's an example of two pieces of code that produce the same thing, one that follows the PEP 8 standard and one that does not:"
   ]
  },
  {
   "cell_type": "code",
   "execution_count": 2,
   "metadata": {},
   "outputs": [
    {
     "name": "stdout",
     "output_type": "stream",
     "text": [
      "Today's date is 2019-02-22 14:11:22.622978\n",
      "[ 6.95407571 -7.51067268 -6.15986129 -5.0952413   7.99606841]\n"
     ]
    }
   ],
   "source": [
    "# PEP 8 ignored.  Code is offensive to the eye and shameful.\n",
    "\n",
    "# Mult some nmbrs against a\n",
    "import math,datetime\n",
    "from numpy import *\n",
    "random.seed(1)\n",
    "a = random.normal(size=100)\n",
    "def RanNumMaFunc(a1,a2):\n",
    "    __a1    = math.ceil(a1)\n",
    "    aa1=random.normal(size=(len(a),__a1));aa2=random.normal(size=(__a1,a2))\n",
    "    _outMat1 = matmul(a,aa1); _outMat2 = matmul(_outMat1, aa2)\n",
    "    d=datetime.datetime.now()\n",
    "    dd = \"Today's date is %s\" % d\n",
    "    print(dd);return _outMat2\n",
    "print(RanNumMaFunc(2.1,5))"
   ]
  },
  {
   "cell_type": "code",
   "execution_count": 3,
   "metadata": {},
   "outputs": [
    {
     "name": "stdout",
     "output_type": "stream",
     "text": [
      "Today's date is 2019-02-22 14:11:24.226727\n",
      "[ 6.95407571 -7.51067268 -6.15986129 -5.0952413   7.99606841]\n"
     ]
    }
   ],
   "source": [
    "# PEP 8 is followed.  Code is beautiful, angels sing.\n",
    "import datetime\n",
    "import math\n",
    "\n",
    "import numpy as np\n",
    "\n",
    "np.random.seed(1)\n",
    "_global_data = np.random.normal(size=100)\n",
    "\n",
    "\n",
    "def random_num_mult(shape1, shape2):\n",
    "    \"\"\"Multiply the global data by two random matricies of shape:\n",
    "        ( len(_global_data), shape1), and (shape1, shape2).\n",
    "    Also prints the current time.\"\"\"\n",
    "\n",
    "    shape1 = math.ceil(shape1)\n",
    "    mat1 = np.random.normal(size=(len(_global_data), shape1))\n",
    "    mat2 = np.random.normal(size=(shape1, shape2))\n",
    "\n",
    "    # Chained matrix mult\n",
    "    output = np.matmul(np.matmul(_global_data, mat1),\n",
    "                       mat2)\n",
    "\n",
    "    current_time = datetime.datetime.now()\n",
    "    print(f\"Today's date is {current_time}\")\n",
    "\n",
    "    return output\n",
    "\n",
    "print(random_num_mult(2.1,5))"
   ]
  },
  {
   "cell_type": "markdown",
   "metadata": {},
   "source": [
    "While it's great to get used to proper coding style, use tools to help get in the habit. Try out flake8 on the bad version of code:"
   ]
  },
  {
   "cell_type": "markdown",
   "metadata": {},
   "source": [
    "```shell\n",
    "$ flake8 data_modules/pep8_example_bad.py\n",
    "\n",
    "data_modules/pep8_example_bad.py:3:12: E401 multiple imports on one line\n",
    "data_modules/pep8_example_bad.py:3:12: E231 missing whitespace after ','\n",
    "data_modules/pep8_example_bad.py:5:1: F405 'random' may be undefined, or defined from star imports: numpy\n",
    "data_modules/pep8_example_bad.py:6:5: F405 'random' may be undefined, or defined from star imports: numpy\n",
    "data_modules/pep8_example_bad.py:7:1: E302 expected 2 blank lines, found 0\n",
    "data_modules/pep8_example_bad.py:7:20: E231 missing whitespace after ','\n",
    "data_modules/pep8_example_bad.py:9:8: E225 missing whitespace around operator\n",
    "data_modules/pep8_example_bad.py:9:9: F405 'random' may be undefined, or defined from star imports: numpy\n",
    "data_modules/pep8_example_bad.py:9:35: E231 missing whitespace after ','\n",
    "data_modules/pep8_example_bad.py:9:42: E702 multiple statements on one line (semicolon)\n",
    "data_modules/pep8_example_bad.py:9:42: E231 missing whitespace after ';'\n",
    "data_modules/pep8_example_bad.py:9:46: E225 missing whitespace around operator\n",
    "data_modules/pep8_example_bad.py:9:47: F405 'random' may be undefined, or defined from star imports: numpy\n",
    "data_modules/pep8_example_bad.py:9:71: E231 missing whitespace after ','\n",
    "data_modules/pep8_example_bad.py:10:16: F405 'matmul' may be undefined, or defined from star imports: numpy\n",
    "data_modules/pep8_example_bad.py:10:24: E231 missing whitespace after ','\n",
    "data_modules/pep8_example_bad.py:10:29: E702 multiple statements on one line (semicolon)\n",
    "data_modules/pep8_example_bad.py:10:42: F405 'matmul' may be undefined, or defined from star imports: numpy\n",
    "data_modules/pep8_example_bad.py:11:6: E225 missing whitespace around operator\n",
    "data_modules/pep8_example_bad.py:15:1: W391 blank line at end of file\n",
    "```"
   ]
  },
  {
   "cell_type": "markdown",
   "metadata": {},
   "source": [
    "## 3.2 Project Structure\n",
    "__init__.py structure example, maybe autoreload as well"
   ]
  },
  {
   "cell_type": "markdown",
   "metadata": {},
   "source": [
    "## 3.3. Docstrings\n",
    "Basic docstring usage, notebook integration"
   ]
  },
  {
   "cell_type": "code",
   "execution_count": null,
   "metadata": {},
   "outputs": [],
   "source": []
  }
 ],
 "metadata": {
  "celltoolbar": "Raw Cell Format",
  "kernelspec": {
   "display_name": "Python 3",
   "language": "python",
   "name": "python3"
  },
  "language_info": {
   "codemirror_mode": {
    "name": "ipython",
    "version": 3
   },
   "file_extension": ".py",
   "mimetype": "text/x-python",
   "name": "python",
   "nbconvert_exporter": "python",
   "pygments_lexer": "ipython3",
   "version": "3.7.2"
  }
 },
 "nbformat": 4,
 "nbformat_minor": 2
}
