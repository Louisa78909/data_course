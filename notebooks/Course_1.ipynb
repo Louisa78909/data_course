{
 "cells": [
  {
   "cell_type": "markdown",
   "metadata": {
    "toc": true
   },
   "source": [
    "<h1>Table of Contents<span class=\"tocSkip\"></span></h1>\n",
    "<div class=\"toc\"><ul class=\"toc-item\"><li><span><a href=\"#PSC-Startup\" data-toc-modified-id=\"PSC-Startup-1\"><span class=\"toc-item-num\">1&nbsp;&nbsp;</span>PSC Startup</a></span><ul class=\"toc-item\"><li><span><a href=\"#Recommended-Prior-to-Installation:\" data-toc-modified-id=\"Recommended-Prior-to-Installation:-1.1\"><span class=\"toc-item-num\">1.1&nbsp;&nbsp;</span>Recommended Prior to Installation:</a></span></li><li><span><a href=\"#Using-an-interactive-node-(Slides-2-3)\" data-toc-modified-id=\"Using-an-interactive-node-(Slides-2-3)-1.2\"><span class=\"toc-item-num\">1.2&nbsp;&nbsp;</span>Using an interactive node (<em>Slides 2-3</em>)</a></span></li><li><span><a href=\"#Juypter-Notebook-Startup-(Slide-4)\" data-toc-modified-id=\"Juypter-Notebook-Startup-(Slide-4)-1.3\"><span class=\"toc-item-num\">1.3&nbsp;&nbsp;</span>Juypter Notebook Startup (<em>Slide 4</em>)</a></span></li></ul></li><li><span><a href=\"#Minimizing-Painful-Surprises-(Slide-5)\" data-toc-modified-id=\"Minimizing-Painful-Surprises-(Slide-5)-2\"><span class=\"toc-item-num\">2&nbsp;&nbsp;</span>Minimizing Painful Surprises (<em>Slide 5</em>)</a></span><ul class=\"toc-item\"><li><span><a href=\"#Version-Control-and-Github-(Slide-6)\" data-toc-modified-id=\"Version-Control-and-Github-(Slide-6)-2.1\"><span class=\"toc-item-num\">2.1&nbsp;&nbsp;</span>Version Control and Github (<em>Slide 6</em>)</a></span></li><li><span><a href=\"#Virtual-Environments-(Slide-7)\" data-toc-modified-id=\"Virtual-Environments-(Slide-7)-2.2\"><span class=\"toc-item-num\">2.2&nbsp;&nbsp;</span>Virtual Environments (<em>Slide 7</em>)</a></span></li><li><span><a href=\"#Unit-Testing-(Slide-8)\" data-toc-modified-id=\"Unit-Testing-(Slide-8)-2.3\"><span class=\"toc-item-num\">2.3&nbsp;&nbsp;</span>Unit Testing (<em>Slide 8</em>)</a></span></li><li><span><a href=\"#Debugging-with-pdb\" data-toc-modified-id=\"Debugging-with-pdb-2.4\"><span class=\"toc-item-num\">2.4&nbsp;&nbsp;</span>Debugging with <strong>pdb</strong></a></span></li></ul></li><li><span><a href=\"#General-Good-Habits\" data-toc-modified-id=\"General-Good-Habits-3\"><span class=\"toc-item-num\">3&nbsp;&nbsp;</span>General Good Habits</a></span><ul class=\"toc-item\"><li><span><a href=\"#Linting\" data-toc-modified-id=\"Linting-3.1\"><span class=\"toc-item-num\">3.1&nbsp;&nbsp;</span>Linting</a></span></li><li><span><a href=\"#Project-Structure\" data-toc-modified-id=\"Project-Structure-3.2\"><span class=\"toc-item-num\">3.2&nbsp;&nbsp;</span>Project Structure</a></span></li><li><span><a href=\"#Docstrings\" data-toc-modified-id=\"Docstrings-3.3\"><span class=\"toc-item-num\">3.3&nbsp;&nbsp;</span>Docstrings</a></span></li></ul></li><li><span><a href=\"#Customization\" data-toc-modified-id=\"Customization-4\"><span class=\"toc-item-num\">4&nbsp;&nbsp;</span>Customization</a></span></li></ul></div>"
   ]
  },
  {
   "cell_type": "markdown",
   "metadata": {},
   "source": [
    "# Practical Exploratory Data Analysis"
   ]
  },
  {
   "cell_type": "markdown",
   "metadata": {},
   "source": [
    "# Course 1: Setup, Environment, Backups, Reproducibility"
   ]
  },
  {
   "cell_type": "markdown",
   "metadata": {},
   "source": [
    "## PSC Startup\n",
    "\n",
    "This course is intended to be taken on an [interactive node](https://www.psc.edu/bridges/user-guide/running-jobs) on the Pittsburgh Supercomputing Cluster.  Before we start up our Jupyter Notebooks, we must first make sure our PSC working area is set up correctly, along with the necessary tools."
   ]
  },
  {
   "cell_type": "markdown",
   "metadata": {},
   "source": [
    "### Recommended Prior to Installation:\n",
    "```shell\n",
    "$ ln -s /pylon5/ac5616p/{username} /home/username/pylon # Symlink your pylon directory.\n",
    "```\n",
    "1. Making a \".condarc\" file.  I suggest:\n",
    "```yaml\n",
    "# Specify where to place environments and packages\n",
    " envs_dirs:\n",
    "   - /path/to/conda_envs\n",
    "\n",
    " pkgs_dirs:\n",
    "   - /path/to/conda_envs/pkgs```\n",
    "Make these directories in areas in which you have a lot of space (not /home/username).  You are only granted 10 GB of space on home, and checking out large conda packages can quickly use it all up.  Make sure `~/.conda/pkgs` is set to read-only mode, as conda may still try to use that as a default package download location if it exists.\n",
    "1. Symlink your other directories to your home (`ln -s /path/to/other/userspace /home/username`).  You'll be doing most of your work outside of \"home\", so it makes sense to easily navigate to those areas.\n",
    "2. Play with `alias` in your `.bashrc` or whatever shell rc file you use.  Making an alias that cd's into the right directory, activates the correct environment, and does whatever other setup you need can be very useful (especially if you haven't touched a particular project for a while).\n",
    "    - Examples:\n",
    "    ```shell\n",
    "    alias ls='ls --color'\n",
    "    alias workon_data='cd ~/lab_bpollack/data_course; conda activate data_course'\n",
    "    ```"
   ]
  },
  {
   "cell_type": "markdown",
   "metadata": {},
   "source": [
    "### Using an interactive node (*Slides 2-3*)\n",
    "We need some computing power to handle the upcoming tasks.  We will use an interactive cpu node to provide that power.  See [Interactive Nodes at PSC](https://www.psc.edu/bridges/user-guide/running-jobs#interactive) to learn more.\n",
    "```shell\n",
    "interact -p DBMI --egress -t 02:00:00 -A XXXXXX --mem=120GB\n",
    "cd /my/working/dir\n",
    "conda activate data_course\n",
    "```"
   ]
  },
  {
   "cell_type": "markdown",
   "metadata": {},
   "source": [
    "###  Juypter Notebook Startup (*Slide 4*)\n",
    "PSC requires an additional special script to use Jupyter Notebook.  After we launch the kernel, we need a way of connecting out browser to the notebook.  This is accomplished by use of the `startupjupyter` script included in this course. Additionally, we can use the [OnDemand](https://www.psc.edu/bridges/user-guide/ondemand#jupyterhub) [setup](https://github.com/kayhan-batmanghelich/BatmanLab/wiki/Jupyter-on-the-Cluster)."
   ]
  },
  {
   "cell_type": "markdown",
   "metadata": {},
   "source": [
    "## Minimizing Painful Surprises (*Slide 5*)\n",
    "\n",
    "Unexpected and unintentional changes can derail data science projects.  As you saw when beginning this course, dozens of packages were downloaded and installed, many of which will never be directly used, but are required dependencies for the top-level packages.  Extremely complex and multifaceted software is necessary for machine learning research, and that software is not static.  Functions become deprecated and eventually removed, default parameters change, expected behavior is updated, and (of course) bugs are fixed.  Any of these changes can impact your active project.  The impact may be minor or negligible, but it could leave you wondering whether you introduced a bug, or the world simply shifted around you.  The following tips are intended to preserve the integrity of your projects and your peace of mind."
   ]
  },
  {
   "cell_type": "markdown",
   "metadata": {},
   "source": [
    "### Version Control and Github (*Slide 6*)\n",
    "Whether working on solo projects or collaborative efforts, software versioning is a must.  As projects grow and increase in complexity, so does the chance that bugs and other misfortunes will strike.  Version control allows a developer to manage and track the changes in their software, which can help with:\n",
    "- Recovering accidentally deleted work.\n",
    "- Undoing bugs of unknown origin.\n",
    "- Separating large-scale development into smaller tasks.\n",
    "- Preventing multiple developers from writing conflicting software.\n",
    "- Improving ease of code sharing and collaboration.\n",
    "- Impressing future employers with your portfolio.\n",
    "![github squares](../images/github_squares.png)\n",
    "\n",
    "\"Git\" is currently the most popular and widely used version control software, and is typically used in conjunction with the [Github](github.com) hosting service.  If you do not have a github account, I highly suggest creating one now.  If you are unfamiliar with git and github, there are hundreds of useful tutorials on the web.  The three most commonly used commands when developing are:\n",
    "```shell\n",
    "git add <files>\n",
    "git commit -m \"my commit message\"\n",
    "git push```\n",
    "\n",
    "These commands add changed files to your current git staging area, stores that info in a new commit (along with a commit message), and then pushes that commit to your remote repository (typically your github account).\n",
    "- **add, commit, and push your work frequently**\n",
    "\n",
    "There is very little benefit from versioning if you don't actively version.  Think of it as saving your work, so you don't lose progress.  There is no downside to committing frequently, however you do want to be careful that you don't accidentally commit sensitive material to your repo, or excessively large files (including notebooks with large embedded images or plots)."
   ]
  },
  {
   "cell_type": "markdown",
   "metadata": {},
   "source": [
    "### Virtual Environments (*Slide 7*)\n",
    "Virtual environments are an excellent way to separate out your projects, and prevent them from interfering with one another, or with your system in general.  A virtual environment isolates projects from each one another on the same infrastructure.  Each project consists of its own software, packages, paths, variables, etc.  A virtual environment prevents changes in one project from affecting another.  Therefore, the following rule should always be followed:\n",
    "- **Every project must live in its own virtual environment**\n",
    "\n",
    "Python projects typically use one of two virtual environment managers: [virtualenv](https://virtualenv.pypa.io/en/latest/) and [conda envs](https://conda.io/docs/user-guide/tasks/manage-environments.html#).  As we are already relying on Anaconda to manage our python installations and dependencies on PSC, we will focus primarily on the latter.  Using `virtualenv` and `conda` together can lead to conflicts, so it's best to choose one or the other and stick with it.  PSC and Bridges provides a helpful website on the details of their conda installation and recommendations for creating virtual environments with the pre-configured ML software: https://www.psc.edu/user-resources/software/anaconda"
   ]
  },
  {
   "cell_type": "markdown",
   "metadata": {},
   "source": [
    "```shell\n",
    "# Exporting your current environment to share with collaborators:\n",
    "conda env export -p /hard/path/to/conda_envs/data_course --no-builds > environment.yml\n",
    "```"
   ]
  },
  {
   "cell_type": "markdown",
   "metadata": {},
   "source": [
    "```shell\n",
    "# Download a new package that has a large ripple effect on already-installed packages:\n",
    "conda install pytorch\n",
    "# wait for install to complete....\n",
    "# ....\n",
    "# Install has changed a bunch of packages and installed a bunch of dependencies.\n",
    "# List the revisions to tell us how to roll back:\n",
    "conda list --revisions\n",
    "# list of revisions, lets undo what we just did and install the next-to-most-recent rev:\n",
    "conda install --revision XX\n",
    "# wait for install, we've successfully reverted our working environment and hopefully averted disaster!\n",
    "```\n"
   ]
  },
  {
   "cell_type": "markdown",
   "metadata": {},
   "source": [
    "### Unit Testing (*Slide 8*)\n",
    "\n",
    "Validation of results is integral to any data science project, and this concept translates to software development as well.  How do you know if an innocuous change to the code-base unintentionally affected the results?  You would have to run a segment of your code, and then analyze the output against a known quantity.  This process can be automated, and falls under the category of \"unit testing\".  The package [pytest](https://docs.pytest.org/en/latest/) is a popular and easy-to-use choice for performing unit tests, and once set-up, can be invoked with a single command."
   ]
  },
  {
   "cell_type": "markdown",
   "metadata": {},
   "source": [
    "Investigate the `tests/test_example.py` file, and run these commands:\n",
    "```shell\n",
    "pytest -k ex0\n",
    "pytest -k ex1\n",
    "pytest -k ex2\n",
    "pytest -k ex3\n",
    "pytest```\n"
   ]
  },
  {
   "cell_type": "markdown",
   "metadata": {},
   "source": [
    "### Debugging with **pdb**"
   ]
  },
  {
   "cell_type": "code",
   "execution_count": 1,
   "metadata": {},
   "outputs": [
    {
     "name": "stdout",
     "output_type": "stream",
     "text": [
      "> \u001b[0;32m<ipython-input-1-457b2fa9dd02>\u001b[0m(6)\u001b[0;36mfib\u001b[0;34m()\u001b[0m\n",
      "\u001b[0;32m      4 \u001b[0;31m\u001b[0;32mdef\u001b[0m \u001b[0mfib\u001b[0m\u001b[0;34m(\u001b[0m\u001b[0mn\u001b[0m\u001b[0;34m)\u001b[0m\u001b[0;34m:\u001b[0m\u001b[0;34m\u001b[0m\u001b[0;34m\u001b[0m\u001b[0m\n",
      "\u001b[0m\u001b[0;32m      5 \u001b[0;31m    \u001b[0mset_trace\u001b[0m\u001b[0;34m(\u001b[0m\u001b[0;34m)\u001b[0m\u001b[0;34m\u001b[0m\u001b[0;34m\u001b[0m\u001b[0m\n",
      "\u001b[0m\u001b[0;32m----> 6 \u001b[0;31m    \u001b[0;32mif\u001b[0m \u001b[0mn\u001b[0m \u001b[0;34m<=\u001b[0m \u001b[0;36m0\u001b[0m \u001b[0;32mor\u001b[0m \u001b[0mtype\u001b[0m\u001b[0;34m(\u001b[0m\u001b[0mn\u001b[0m\u001b[0;34m)\u001b[0m \u001b[0;32mis\u001b[0m \u001b[0;32mnot\u001b[0m \u001b[0mint\u001b[0m\u001b[0;34m:\u001b[0m\u001b[0;34m\u001b[0m\u001b[0;34m\u001b[0m\u001b[0m\n",
      "\u001b[0m\u001b[0;32m      7 \u001b[0;31m        \u001b[0;32mraise\u001b[0m \u001b[0mValueError\u001b[0m\u001b[0;34m(\u001b[0m\u001b[0;34mf'Arg must be a positive int, got {n}'\u001b[0m\u001b[0;34m)\u001b[0m\u001b[0;34m\u001b[0m\u001b[0;34m\u001b[0m\u001b[0m\n",
      "\u001b[0m\u001b[0;32m      8 \u001b[0;31m    \u001b[0;32melif\u001b[0m \u001b[0mn\u001b[0m \u001b[0;34m==\u001b[0m \u001b[0;36m1\u001b[0m\u001b[0;34m:\u001b[0m\u001b[0;34m\u001b[0m\u001b[0;34m\u001b[0m\u001b[0m\n",
      "\u001b[0m\n",
      "ipdb> n\n",
      "> \u001b[0;32m<ipython-input-1-457b2fa9dd02>\u001b[0m(8)\u001b[0;36mfib\u001b[0;34m()\u001b[0m\n",
      "\u001b[0;32m      6 \u001b[0;31m    \u001b[0;32mif\u001b[0m \u001b[0mn\u001b[0m \u001b[0;34m<=\u001b[0m \u001b[0;36m0\u001b[0m \u001b[0;32mor\u001b[0m \u001b[0mtype\u001b[0m\u001b[0;34m(\u001b[0m\u001b[0mn\u001b[0m\u001b[0;34m)\u001b[0m \u001b[0;32mis\u001b[0m \u001b[0;32mnot\u001b[0m \u001b[0mint\u001b[0m\u001b[0;34m:\u001b[0m\u001b[0;34m\u001b[0m\u001b[0;34m\u001b[0m\u001b[0m\n",
      "\u001b[0m\u001b[0;32m      7 \u001b[0;31m        \u001b[0;32mraise\u001b[0m \u001b[0mValueError\u001b[0m\u001b[0;34m(\u001b[0m\u001b[0;34mf'Arg must be a positive int, got {n}'\u001b[0m\u001b[0;34m)\u001b[0m\u001b[0;34m\u001b[0m\u001b[0;34m\u001b[0m\u001b[0m\n",
      "\u001b[0m\u001b[0;32m----> 8 \u001b[0;31m    \u001b[0;32melif\u001b[0m \u001b[0mn\u001b[0m \u001b[0;34m==\u001b[0m \u001b[0;36m1\u001b[0m\u001b[0;34m:\u001b[0m\u001b[0;34m\u001b[0m\u001b[0;34m\u001b[0m\u001b[0m\n",
      "\u001b[0m\u001b[0;32m      9 \u001b[0;31m        \u001b[0;32mreturn\u001b[0m \u001b[0;36m0\u001b[0m\u001b[0;34m\u001b[0m\u001b[0;34m\u001b[0m\u001b[0m\n",
      "\u001b[0m\u001b[0;32m     10 \u001b[0;31m    \u001b[0;32melif\u001b[0m \u001b[0mn\u001b[0m \u001b[0;34m==\u001b[0m \u001b[0;36m2\u001b[0m\u001b[0;34m:\u001b[0m\u001b[0;34m\u001b[0m\u001b[0;34m\u001b[0m\u001b[0m\n",
      "\u001b[0m\n",
      "ipdb> n\n",
      "> \u001b[0;32m<ipython-input-1-457b2fa9dd02>\u001b[0m(10)\u001b[0;36mfib\u001b[0;34m()\u001b[0m\n",
      "\u001b[0;32m      8 \u001b[0;31m    \u001b[0;32melif\u001b[0m \u001b[0mn\u001b[0m \u001b[0;34m==\u001b[0m \u001b[0;36m1\u001b[0m\u001b[0;34m:\u001b[0m\u001b[0;34m\u001b[0m\u001b[0;34m\u001b[0m\u001b[0m\n",
      "\u001b[0m\u001b[0;32m      9 \u001b[0;31m        \u001b[0;32mreturn\u001b[0m \u001b[0;36m0\u001b[0m\u001b[0;34m\u001b[0m\u001b[0;34m\u001b[0m\u001b[0m\n",
      "\u001b[0m\u001b[0;32m---> 10 \u001b[0;31m    \u001b[0;32melif\u001b[0m \u001b[0mn\u001b[0m \u001b[0;34m==\u001b[0m \u001b[0;36m2\u001b[0m\u001b[0;34m:\u001b[0m\u001b[0;34m\u001b[0m\u001b[0;34m\u001b[0m\u001b[0m\n",
      "\u001b[0m\u001b[0;32m     11 \u001b[0;31m        \u001b[0;32mreturn\u001b[0m \u001b[0;36m1\u001b[0m\u001b[0;34m\u001b[0m\u001b[0;34m\u001b[0m\u001b[0m\n",
      "\u001b[0m\u001b[0;32m     12 \u001b[0;31m    \u001b[0;32melse\u001b[0m\u001b[0;34m:\u001b[0m\u001b[0;34m\u001b[0m\u001b[0;34m\u001b[0m\u001b[0m\n",
      "\u001b[0m\n",
      "ipdb> a\n",
      "n = 3\n",
      "ipdb> n\n",
      "> \u001b[0;32m<ipython-input-1-457b2fa9dd02>\u001b[0m(13)\u001b[0;36mfib\u001b[0;34m()\u001b[0m\n",
      "\u001b[0;32m     10 \u001b[0;31m    \u001b[0;32melif\u001b[0m \u001b[0mn\u001b[0m \u001b[0;34m==\u001b[0m \u001b[0;36m2\u001b[0m\u001b[0;34m:\u001b[0m\u001b[0;34m\u001b[0m\u001b[0;34m\u001b[0m\u001b[0m\n",
      "\u001b[0m\u001b[0;32m     11 \u001b[0;31m        \u001b[0;32mreturn\u001b[0m \u001b[0;36m1\u001b[0m\u001b[0;34m\u001b[0m\u001b[0;34m\u001b[0m\u001b[0m\n",
      "\u001b[0m\u001b[0;32m     12 \u001b[0;31m    \u001b[0;32melse\u001b[0m\u001b[0;34m:\u001b[0m\u001b[0;34m\u001b[0m\u001b[0;34m\u001b[0m\u001b[0m\n",
      "\u001b[0m\u001b[0;32m---> 13 \u001b[0;31m        \u001b[0;32mreturn\u001b[0m \u001b[0mfib\u001b[0m\u001b[0;34m(\u001b[0m\u001b[0mn\u001b[0m\u001b[0;34m-\u001b[0m\u001b[0;36m1\u001b[0m\u001b[0;34m)\u001b[0m \u001b[0;34m+\u001b[0m \u001b[0mfib\u001b[0m\u001b[0;34m(\u001b[0m\u001b[0mn\u001b[0m\u001b[0;34m)\u001b[0m\u001b[0;34m\u001b[0m\u001b[0;34m\u001b[0m\u001b[0m\n",
      "\u001b[0m\u001b[0;32m     14 \u001b[0;31m\u001b[0mfib\u001b[0m\u001b[0;34m(\u001b[0m\u001b[0;36m3\u001b[0m\u001b[0;34m)\u001b[0m\u001b[0;34m\u001b[0m\u001b[0;34m\u001b[0m\u001b[0m\n",
      "\u001b[0m\n",
      "ipdb> n\n",
      "> \u001b[0;32m<ipython-input-1-457b2fa9dd02>\u001b[0m(6)\u001b[0;36mfib\u001b[0;34m()\u001b[0m\n",
      "\u001b[0;32m      4 \u001b[0;31m\u001b[0;32mdef\u001b[0m \u001b[0mfib\u001b[0m\u001b[0;34m(\u001b[0m\u001b[0mn\u001b[0m\u001b[0;34m)\u001b[0m\u001b[0;34m:\u001b[0m\u001b[0;34m\u001b[0m\u001b[0;34m\u001b[0m\u001b[0m\n",
      "\u001b[0m\u001b[0;32m      5 \u001b[0;31m    \u001b[0mset_trace\u001b[0m\u001b[0;34m(\u001b[0m\u001b[0;34m)\u001b[0m\u001b[0;34m\u001b[0m\u001b[0;34m\u001b[0m\u001b[0m\n",
      "\u001b[0m\u001b[0;32m----> 6 \u001b[0;31m    \u001b[0;32mif\u001b[0m \u001b[0mn\u001b[0m \u001b[0;34m<=\u001b[0m \u001b[0;36m0\u001b[0m \u001b[0;32mor\u001b[0m \u001b[0mtype\u001b[0m\u001b[0;34m(\u001b[0m\u001b[0mn\u001b[0m\u001b[0;34m)\u001b[0m \u001b[0;32mis\u001b[0m \u001b[0;32mnot\u001b[0m \u001b[0mint\u001b[0m\u001b[0;34m:\u001b[0m\u001b[0;34m\u001b[0m\u001b[0;34m\u001b[0m\u001b[0m\n",
      "\u001b[0m\u001b[0;32m      7 \u001b[0;31m        \u001b[0;32mraise\u001b[0m \u001b[0mValueError\u001b[0m\u001b[0;34m(\u001b[0m\u001b[0;34mf'Arg must be a positive int, got {n}'\u001b[0m\u001b[0;34m)\u001b[0m\u001b[0;34m\u001b[0m\u001b[0;34m\u001b[0m\u001b[0m\n",
      "\u001b[0m\u001b[0;32m      8 \u001b[0;31m    \u001b[0;32melif\u001b[0m \u001b[0mn\u001b[0m \u001b[0;34m==\u001b[0m \u001b[0;36m1\u001b[0m\u001b[0;34m:\u001b[0m\u001b[0;34m\u001b[0m\u001b[0;34m\u001b[0m\u001b[0m\n",
      "\u001b[0m\n",
      "ipdb> a\n",
      "n = 2\n",
      "ipdb> s\n",
      "> \u001b[0;32m<ipython-input-1-457b2fa9dd02>\u001b[0m(8)\u001b[0;36mfib\u001b[0;34m()\u001b[0m\n",
      "\u001b[0;32m      6 \u001b[0;31m    \u001b[0;32mif\u001b[0m \u001b[0mn\u001b[0m \u001b[0;34m<=\u001b[0m \u001b[0;36m0\u001b[0m \u001b[0;32mor\u001b[0m \u001b[0mtype\u001b[0m\u001b[0;34m(\u001b[0m\u001b[0mn\u001b[0m\u001b[0;34m)\u001b[0m \u001b[0;32mis\u001b[0m \u001b[0;32mnot\u001b[0m \u001b[0mint\u001b[0m\u001b[0;34m:\u001b[0m\u001b[0;34m\u001b[0m\u001b[0;34m\u001b[0m\u001b[0m\n",
      "\u001b[0m\u001b[0;32m      7 \u001b[0;31m        \u001b[0;32mraise\u001b[0m \u001b[0mValueError\u001b[0m\u001b[0;34m(\u001b[0m\u001b[0;34mf'Arg must be a positive int, got {n}'\u001b[0m\u001b[0;34m)\u001b[0m\u001b[0;34m\u001b[0m\u001b[0;34m\u001b[0m\u001b[0m\n",
      "\u001b[0m\u001b[0;32m----> 8 \u001b[0;31m    \u001b[0;32melif\u001b[0m \u001b[0mn\u001b[0m \u001b[0;34m==\u001b[0m \u001b[0;36m1\u001b[0m\u001b[0;34m:\u001b[0m\u001b[0;34m\u001b[0m\u001b[0;34m\u001b[0m\u001b[0m\n",
      "\u001b[0m\u001b[0;32m      9 \u001b[0;31m        \u001b[0;32mreturn\u001b[0m \u001b[0;36m0\u001b[0m\u001b[0;34m\u001b[0m\u001b[0;34m\u001b[0m\u001b[0m\n",
      "\u001b[0m\u001b[0;32m     10 \u001b[0;31m    \u001b[0;32melif\u001b[0m \u001b[0mn\u001b[0m \u001b[0;34m==\u001b[0m \u001b[0;36m2\u001b[0m\u001b[0;34m:\u001b[0m\u001b[0;34m\u001b[0m\u001b[0;34m\u001b[0m\u001b[0m\n",
      "\u001b[0m\n",
      "ipdb> s\n",
      "> \u001b[0;32m<ipython-input-1-457b2fa9dd02>\u001b[0m(10)\u001b[0;36mfib\u001b[0;34m()\u001b[0m\n",
      "\u001b[0;32m      8 \u001b[0;31m    \u001b[0;32melif\u001b[0m \u001b[0mn\u001b[0m \u001b[0;34m==\u001b[0m \u001b[0;36m1\u001b[0m\u001b[0;34m:\u001b[0m\u001b[0;34m\u001b[0m\u001b[0;34m\u001b[0m\u001b[0m\n",
      "\u001b[0m\u001b[0;32m      9 \u001b[0;31m        \u001b[0;32mreturn\u001b[0m \u001b[0;36m0\u001b[0m\u001b[0;34m\u001b[0m\u001b[0;34m\u001b[0m\u001b[0m\n",
      "\u001b[0m\u001b[0;32m---> 10 \u001b[0;31m    \u001b[0;32melif\u001b[0m \u001b[0mn\u001b[0m \u001b[0;34m==\u001b[0m \u001b[0;36m2\u001b[0m\u001b[0;34m:\u001b[0m\u001b[0;34m\u001b[0m\u001b[0;34m\u001b[0m\u001b[0m\n",
      "\u001b[0m\u001b[0;32m     11 \u001b[0;31m        \u001b[0;32mreturn\u001b[0m \u001b[0;36m1\u001b[0m\u001b[0;34m\u001b[0m\u001b[0;34m\u001b[0m\u001b[0m\n",
      "\u001b[0m\u001b[0;32m     12 \u001b[0;31m    \u001b[0;32melse\u001b[0m\u001b[0;34m:\u001b[0m\u001b[0;34m\u001b[0m\u001b[0;34m\u001b[0m\u001b[0m\n",
      "\u001b[0m\n",
      "ipdb> s\n",
      "> \u001b[0;32m<ipython-input-1-457b2fa9dd02>\u001b[0m(11)\u001b[0;36mfib\u001b[0;34m()\u001b[0m\n",
      "\u001b[0;32m      9 \u001b[0;31m        \u001b[0;32mreturn\u001b[0m \u001b[0;36m0\u001b[0m\u001b[0;34m\u001b[0m\u001b[0;34m\u001b[0m\u001b[0m\n",
      "\u001b[0m\u001b[0;32m     10 \u001b[0;31m    \u001b[0;32melif\u001b[0m \u001b[0mn\u001b[0m \u001b[0;34m==\u001b[0m \u001b[0;36m2\u001b[0m\u001b[0;34m:\u001b[0m\u001b[0;34m\u001b[0m\u001b[0;34m\u001b[0m\u001b[0m\n",
      "\u001b[0m\u001b[0;32m---> 11 \u001b[0;31m        \u001b[0;32mreturn\u001b[0m \u001b[0;36m1\u001b[0m\u001b[0;34m\u001b[0m\u001b[0;34m\u001b[0m\u001b[0m\n",
      "\u001b[0m\u001b[0;32m     12 \u001b[0;31m    \u001b[0;32melse\u001b[0m\u001b[0;34m:\u001b[0m\u001b[0;34m\u001b[0m\u001b[0;34m\u001b[0m\u001b[0m\n",
      "\u001b[0m\u001b[0;32m     13 \u001b[0;31m        \u001b[0;32mreturn\u001b[0m \u001b[0mfib\u001b[0m\u001b[0;34m(\u001b[0m\u001b[0mn\u001b[0m\u001b[0;34m-\u001b[0m\u001b[0;36m1\u001b[0m\u001b[0;34m)\u001b[0m \u001b[0;34m+\u001b[0m \u001b[0mfib\u001b[0m\u001b[0;34m(\u001b[0m\u001b[0mn\u001b[0m\u001b[0;34m)\u001b[0m\u001b[0;34m\u001b[0m\u001b[0;34m\u001b[0m\u001b[0m\n",
      "\u001b[0m\n",
      "ipdb> s\n",
      "--Return--\n",
      "1\n",
      "> \u001b[0;32m<ipython-input-1-457b2fa9dd02>\u001b[0m(11)\u001b[0;36mfib\u001b[0;34m()\u001b[0m\n",
      "\u001b[0;32m      9 \u001b[0;31m        \u001b[0;32mreturn\u001b[0m \u001b[0;36m0\u001b[0m\u001b[0;34m\u001b[0m\u001b[0;34m\u001b[0m\u001b[0m\n",
      "\u001b[0m\u001b[0;32m     10 \u001b[0;31m    \u001b[0;32melif\u001b[0m \u001b[0mn\u001b[0m \u001b[0;34m==\u001b[0m \u001b[0;36m2\u001b[0m\u001b[0;34m:\u001b[0m\u001b[0;34m\u001b[0m\u001b[0;34m\u001b[0m\u001b[0m\n",
      "\u001b[0m\u001b[0;32m---> 11 \u001b[0;31m        \u001b[0;32mreturn\u001b[0m \u001b[0;36m1\u001b[0m\u001b[0;34m\u001b[0m\u001b[0;34m\u001b[0m\u001b[0m\n",
      "\u001b[0m\u001b[0;32m     12 \u001b[0;31m    \u001b[0;32melse\u001b[0m\u001b[0;34m:\u001b[0m\u001b[0;34m\u001b[0m\u001b[0;34m\u001b[0m\u001b[0m\n",
      "\u001b[0m\u001b[0;32m     13 \u001b[0;31m        \u001b[0;32mreturn\u001b[0m \u001b[0mfib\u001b[0m\u001b[0;34m(\u001b[0m\u001b[0mn\u001b[0m\u001b[0;34m-\u001b[0m\u001b[0;36m1\u001b[0m\u001b[0;34m)\u001b[0m \u001b[0;34m+\u001b[0m \u001b[0mfib\u001b[0m\u001b[0;34m(\u001b[0m\u001b[0mn\u001b[0m\u001b[0;34m)\u001b[0m\u001b[0;34m\u001b[0m\u001b[0;34m\u001b[0m\u001b[0m\n",
      "\u001b[0m\n",
      "ipdb> s\n",
      "--Call--\n",
      "> \u001b[0;32m<ipython-input-1-457b2fa9dd02>\u001b[0m(4)\u001b[0;36mfib\u001b[0;34m()\u001b[0m\n",
      "\u001b[0;32m      2 \u001b[0;31m\u001b[0;32mfrom\u001b[0m \u001b[0mIPython\u001b[0m\u001b[0;34m.\u001b[0m\u001b[0mcore\u001b[0m\u001b[0;34m.\u001b[0m\u001b[0mdebugger\u001b[0m \u001b[0;32mimport\u001b[0m \u001b[0mset_trace\u001b[0m\u001b[0;34m\u001b[0m\u001b[0;34m\u001b[0m\u001b[0m\n",
      "\u001b[0m\u001b[0;32m      3 \u001b[0;31m\u001b[0;34m\u001b[0m\u001b[0m\n",
      "\u001b[0m\u001b[0;32m----> 4 \u001b[0;31m\u001b[0;32mdef\u001b[0m \u001b[0mfib\u001b[0m\u001b[0;34m(\u001b[0m\u001b[0mn\u001b[0m\u001b[0;34m)\u001b[0m\u001b[0;34m:\u001b[0m\u001b[0;34m\u001b[0m\u001b[0;34m\u001b[0m\u001b[0m\n",
      "\u001b[0m\u001b[0;32m      5 \u001b[0;31m    \u001b[0mset_trace\u001b[0m\u001b[0;34m(\u001b[0m\u001b[0;34m)\u001b[0m\u001b[0;34m\u001b[0m\u001b[0;34m\u001b[0m\u001b[0m\n",
      "\u001b[0m\u001b[0;32m      6 \u001b[0;31m    \u001b[0;32mif\u001b[0m \u001b[0mn\u001b[0m \u001b[0;34m<=\u001b[0m \u001b[0;36m0\u001b[0m \u001b[0;32mor\u001b[0m \u001b[0mtype\u001b[0m\u001b[0;34m(\u001b[0m\u001b[0mn\u001b[0m\u001b[0;34m)\u001b[0m \u001b[0;32mis\u001b[0m \u001b[0;32mnot\u001b[0m \u001b[0mint\u001b[0m\u001b[0;34m:\u001b[0m\u001b[0;34m\u001b[0m\u001b[0;34m\u001b[0m\u001b[0m\n",
      "\u001b[0m\n",
      "ipdb> s\n",
      "> \u001b[0;32m<ipython-input-1-457b2fa9dd02>\u001b[0m(5)\u001b[0;36mfib\u001b[0;34m()\u001b[0m\n",
      "\u001b[0;32m      3 \u001b[0;31m\u001b[0;34m\u001b[0m\u001b[0m\n",
      "\u001b[0m\u001b[0;32m      4 \u001b[0;31m\u001b[0;32mdef\u001b[0m \u001b[0mfib\u001b[0m\u001b[0;34m(\u001b[0m\u001b[0mn\u001b[0m\u001b[0;34m)\u001b[0m\u001b[0;34m:\u001b[0m\u001b[0;34m\u001b[0m\u001b[0;34m\u001b[0m\u001b[0m\n",
      "\u001b[0m\u001b[0;32m----> 5 \u001b[0;31m    \u001b[0mset_trace\u001b[0m\u001b[0;34m(\u001b[0m\u001b[0;34m)\u001b[0m\u001b[0;34m\u001b[0m\u001b[0;34m\u001b[0m\u001b[0m\n",
      "\u001b[0m\u001b[0;32m      6 \u001b[0;31m    \u001b[0;32mif\u001b[0m \u001b[0mn\u001b[0m \u001b[0;34m<=\u001b[0m \u001b[0;36m0\u001b[0m \u001b[0;32mor\u001b[0m \u001b[0mtype\u001b[0m\u001b[0;34m(\u001b[0m\u001b[0mn\u001b[0m\u001b[0;34m)\u001b[0m \u001b[0;32mis\u001b[0m \u001b[0;32mnot\u001b[0m \u001b[0mint\u001b[0m\u001b[0;34m:\u001b[0m\u001b[0;34m\u001b[0m\u001b[0;34m\u001b[0m\u001b[0m\n",
      "\u001b[0m\u001b[0;32m      7 \u001b[0;31m        \u001b[0;32mraise\u001b[0m \u001b[0mValueError\u001b[0m\u001b[0;34m(\u001b[0m\u001b[0;34mf'Arg must be a positive int, got {n}'\u001b[0m\u001b[0;34m)\u001b[0m\u001b[0;34m\u001b[0m\u001b[0;34m\u001b[0m\u001b[0m\n",
      "\u001b[0m\n",
      "ipdb> s\n",
      "--Call--\n",
      "> \u001b[0;32m/home/bpollack/conda_envs/data_course/lib/python3.6/site-packages/IPython/core/debugger.py\u001b[0m(636)\u001b[0;36mset_trace\u001b[0;34m()\u001b[0m\n",
      "\u001b[0;32m    634 \u001b[0;31m\u001b[0;34m\u001b[0m\u001b[0m\n",
      "\u001b[0m\u001b[0;32m    635 \u001b[0;31m\u001b[0;34m\u001b[0m\u001b[0m\n",
      "\u001b[0m\u001b[0;32m--> 636 \u001b[0;31m\u001b[0;32mdef\u001b[0m \u001b[0mset_trace\u001b[0m\u001b[0;34m(\u001b[0m\u001b[0mframe\u001b[0m\u001b[0;34m=\u001b[0m\u001b[0;32mNone\u001b[0m\u001b[0;34m)\u001b[0m\u001b[0;34m:\u001b[0m\u001b[0;34m\u001b[0m\u001b[0;34m\u001b[0m\u001b[0m\n",
      "\u001b[0m\u001b[0;32m    637 \u001b[0;31m    \"\"\"\n",
      "\u001b[0m\u001b[0;32m    638 \u001b[0;31m    \u001b[0mStart\u001b[0m \u001b[0mdebugging\u001b[0m \u001b[0;32mfrom\u001b[0m\u001b[0;31m \u001b[0m\u001b[0;31m`\u001b[0m\u001b[0mframe\u001b[0m\u001b[0;31m`\u001b[0m\u001b[0;34m.\u001b[0m\u001b[0;34m\u001b[0m\u001b[0;34m\u001b[0m\u001b[0m\n",
      "\u001b[0m\n"
     ]
    },
    {
     "name": "stdout",
     "output_type": "stream",
     "text": [
      "ipdb> s\n",
      "> \u001b[0;32m/home/bpollack/conda_envs/data_course/lib/python3.6/site-packages/IPython/core/debugger.py\u001b[0m(642)\u001b[0;36mset_trace\u001b[0;34m()\u001b[0m\n",
      "\u001b[0;32m    638 \u001b[0;31m    \u001b[0mStart\u001b[0m \u001b[0mdebugging\u001b[0m \u001b[0;32mfrom\u001b[0m\u001b[0;31m \u001b[0m\u001b[0;31m`\u001b[0m\u001b[0mframe\u001b[0m\u001b[0;31m`\u001b[0m\u001b[0;34m.\u001b[0m\u001b[0;34m\u001b[0m\u001b[0;34m\u001b[0m\u001b[0m\n",
      "\u001b[0m\u001b[0;32m    639 \u001b[0;31m\u001b[0;34m\u001b[0m\u001b[0m\n",
      "\u001b[0m\u001b[0;32m    640 \u001b[0;31m    \u001b[0mIf\u001b[0m \u001b[0mframe\u001b[0m \u001b[0;32mis\u001b[0m \u001b[0;32mnot\u001b[0m \u001b[0mspecified\u001b[0m\u001b[0;34m,\u001b[0m \u001b[0mdebugging\u001b[0m \u001b[0mstarts\u001b[0m \u001b[0;32mfrom\u001b[0m \u001b[0mcaller\u001b[0m\u001b[0;31m'\u001b[0m\u001b[0ms\u001b[0m \u001b[0mframe\u001b[0m\u001b[0;34m.\u001b[0m\u001b[0;34m\u001b[0m\u001b[0;34m\u001b[0m\u001b[0m\n",
      "\u001b[0m\u001b[0;32m    641 \u001b[0;31m    \"\"\"\n",
      "\u001b[0m\u001b[0;32m--> 642 \u001b[0;31m    \u001b[0mPdb\u001b[0m\u001b[0;34m(\u001b[0m\u001b[0;34m)\u001b[0m\u001b[0;34m.\u001b[0m\u001b[0mset_trace\u001b[0m\u001b[0;34m(\u001b[0m\u001b[0mframe\u001b[0m \u001b[0;32mor\u001b[0m \u001b[0msys\u001b[0m\u001b[0;34m.\u001b[0m\u001b[0m_getframe\u001b[0m\u001b[0;34m(\u001b[0m\u001b[0;34m)\u001b[0m\u001b[0;34m.\u001b[0m\u001b[0mf_back\u001b[0m\u001b[0;34m)\u001b[0m\u001b[0;34m\u001b[0m\u001b[0;34m\u001b[0m\u001b[0m\n",
      "\u001b[0m\n",
      "ipdb> s\n",
      "--Call--\n",
      "> \u001b[0;32m/home/bpollack/conda_envs/data_course/lib/python3.6/site-packages/IPython/core/debugger.py\u001b[0m(206)\u001b[0;36m__init__\u001b[0;34m()\u001b[0m\n",
      "\u001b[0;32m    204 \u001b[0;31m    \"\"\"\n",
      "\u001b[0m\u001b[0;32m    205 \u001b[0;31m\u001b[0;34m\u001b[0m\u001b[0m\n",
      "\u001b[0m\u001b[0;32m--> 206 \u001b[0;31m    def __init__(self, color_scheme=None, completekey=None,\n",
      "\u001b[0m\u001b[0;32m    207 \u001b[0;31m                 stdin=None, stdout=None, context=5, **kwargs):\n",
      "\u001b[0m\u001b[0;32m    208 \u001b[0;31m        \"\"\"Create a new IPython debugger.\n",
      "\u001b[0m\n",
      "ipdb> s\n",
      "> \u001b[0;32m/home/bpollack/conda_envs/data_course/lib/python3.6/site-packages/IPython/core/debugger.py\u001b[0m(222)\u001b[0;36m__init__\u001b[0;34m()\u001b[0m\n",
      "\u001b[0;32m    220 \u001b[0;31m\u001b[0;34m\u001b[0m\u001b[0m\n",
      "\u001b[0m\u001b[0;32m    221 \u001b[0;31m        \u001b[0;31m# Parent constructor:\u001b[0m\u001b[0;34m\u001b[0m\u001b[0;34m\u001b[0m\u001b[0;34m\u001b[0m\u001b[0m\n",
      "\u001b[0m\u001b[0;32m--> 222 \u001b[0;31m        \u001b[0;32mtry\u001b[0m\u001b[0;34m:\u001b[0m\u001b[0;34m\u001b[0m\u001b[0;34m\u001b[0m\u001b[0m\n",
      "\u001b[0m\u001b[0;32m    223 \u001b[0;31m            \u001b[0mself\u001b[0m\u001b[0;34m.\u001b[0m\u001b[0mcontext\u001b[0m \u001b[0;34m=\u001b[0m \u001b[0mint\u001b[0m\u001b[0;34m(\u001b[0m\u001b[0mcontext\u001b[0m\u001b[0;34m)\u001b[0m\u001b[0;34m\u001b[0m\u001b[0;34m\u001b[0m\u001b[0m\n",
      "\u001b[0m\u001b[0;32m    224 \u001b[0;31m            \u001b[0;32mif\u001b[0m \u001b[0mself\u001b[0m\u001b[0;34m.\u001b[0m\u001b[0mcontext\u001b[0m \u001b[0;34m<=\u001b[0m \u001b[0;36m0\u001b[0m\u001b[0;34m:\u001b[0m\u001b[0;34m\u001b[0m\u001b[0;34m\u001b[0m\u001b[0m\n",
      "\u001b[0m\n",
      "ipdb> s\n",
      "> \u001b[0;32m/home/bpollack/conda_envs/data_course/lib/python3.6/site-packages/IPython/core/debugger.py\u001b[0m(223)\u001b[0;36m__init__\u001b[0;34m()\u001b[0m\n",
      "\u001b[0;32m    221 \u001b[0;31m        \u001b[0;31m# Parent constructor:\u001b[0m\u001b[0;34m\u001b[0m\u001b[0;34m\u001b[0m\u001b[0;34m\u001b[0m\u001b[0m\n",
      "\u001b[0m\u001b[0;32m    222 \u001b[0;31m        \u001b[0;32mtry\u001b[0m\u001b[0;34m:\u001b[0m\u001b[0;34m\u001b[0m\u001b[0;34m\u001b[0m\u001b[0m\n",
      "\u001b[0m\u001b[0;32m--> 223 \u001b[0;31m            \u001b[0mself\u001b[0m\u001b[0;34m.\u001b[0m\u001b[0mcontext\u001b[0m \u001b[0;34m=\u001b[0m \u001b[0mint\u001b[0m\u001b[0;34m(\u001b[0m\u001b[0mcontext\u001b[0m\u001b[0;34m)\u001b[0m\u001b[0;34m\u001b[0m\u001b[0;34m\u001b[0m\u001b[0m\n",
      "\u001b[0m\u001b[0;32m    224 \u001b[0;31m            \u001b[0;32mif\u001b[0m \u001b[0mself\u001b[0m\u001b[0;34m.\u001b[0m\u001b[0mcontext\u001b[0m \u001b[0;34m<=\u001b[0m \u001b[0;36m0\u001b[0m\u001b[0;34m:\u001b[0m\u001b[0;34m\u001b[0m\u001b[0;34m\u001b[0m\u001b[0m\n",
      "\u001b[0m\u001b[0;32m    225 \u001b[0;31m                \u001b[0;32mraise\u001b[0m \u001b[0mValueError\u001b[0m\u001b[0;34m(\u001b[0m\u001b[0;34m\"Context must be a positive integer\"\u001b[0m\u001b[0;34m)\u001b[0m\u001b[0;34m\u001b[0m\u001b[0;34m\u001b[0m\u001b[0m\n",
      "\u001b[0m\n",
      "ipdb> q\n"
     ]
    },
    {
     "ename": "BdbQuit",
     "evalue": "",
     "output_type": "error",
     "traceback": [
      "\u001b[0;31m---------------------------------------------------------------------------\u001b[0m",
      "\u001b[0;31mBdbQuit\u001b[0m                                   Traceback (most recent call last)",
      "\u001b[0;32m<ipython-input-1-457b2fa9dd02>\u001b[0m in \u001b[0;36m<module>\u001b[0;34m\u001b[0m\n\u001b[1;32m     12\u001b[0m     \u001b[0;32melse\u001b[0m\u001b[0;34m:\u001b[0m\u001b[0;34m\u001b[0m\u001b[0;34m\u001b[0m\u001b[0m\n\u001b[1;32m     13\u001b[0m         \u001b[0;32mreturn\u001b[0m \u001b[0mfib\u001b[0m\u001b[0;34m(\u001b[0m\u001b[0mn\u001b[0m\u001b[0;34m-\u001b[0m\u001b[0;36m1\u001b[0m\u001b[0;34m)\u001b[0m \u001b[0;34m+\u001b[0m \u001b[0mfib\u001b[0m\u001b[0;34m(\u001b[0m\u001b[0mn\u001b[0m\u001b[0;34m)\u001b[0m\u001b[0;34m\u001b[0m\u001b[0;34m\u001b[0m\u001b[0m\n\u001b[0;32m---> 14\u001b[0;31m \u001b[0mfib\u001b[0m\u001b[0;34m(\u001b[0m\u001b[0;36m3\u001b[0m\u001b[0;34m)\u001b[0m\u001b[0;34m\u001b[0m\u001b[0;34m\u001b[0m\u001b[0m\n\u001b[0m",
      "\u001b[0;32m<ipython-input-1-457b2fa9dd02>\u001b[0m in \u001b[0;36mfib\u001b[0;34m(n)\u001b[0m\n\u001b[1;32m     11\u001b[0m         \u001b[0;32mreturn\u001b[0m \u001b[0;36m1\u001b[0m\u001b[0;34m\u001b[0m\u001b[0;34m\u001b[0m\u001b[0m\n\u001b[1;32m     12\u001b[0m     \u001b[0;32melse\u001b[0m\u001b[0;34m:\u001b[0m\u001b[0;34m\u001b[0m\u001b[0;34m\u001b[0m\u001b[0m\n\u001b[0;32m---> 13\u001b[0;31m         \u001b[0;32mreturn\u001b[0m \u001b[0mfib\u001b[0m\u001b[0;34m(\u001b[0m\u001b[0mn\u001b[0m\u001b[0;34m-\u001b[0m\u001b[0;36m1\u001b[0m\u001b[0;34m)\u001b[0m \u001b[0;34m+\u001b[0m \u001b[0mfib\u001b[0m\u001b[0;34m(\u001b[0m\u001b[0mn\u001b[0m\u001b[0;34m)\u001b[0m\u001b[0;34m\u001b[0m\u001b[0;34m\u001b[0m\u001b[0m\n\u001b[0m\u001b[1;32m     14\u001b[0m \u001b[0mfib\u001b[0m\u001b[0;34m(\u001b[0m\u001b[0;36m3\u001b[0m\u001b[0;34m)\u001b[0m\u001b[0;34m\u001b[0m\u001b[0;34m\u001b[0m\u001b[0m\n",
      "\u001b[0;32m<ipython-input-1-457b2fa9dd02>\u001b[0m in \u001b[0;36mfib\u001b[0;34m(n)\u001b[0m\n\u001b[1;32m      3\u001b[0m \u001b[0;34m\u001b[0m\u001b[0m\n\u001b[1;32m      4\u001b[0m \u001b[0;32mdef\u001b[0m \u001b[0mfib\u001b[0m\u001b[0;34m(\u001b[0m\u001b[0mn\u001b[0m\u001b[0;34m)\u001b[0m\u001b[0;34m:\u001b[0m\u001b[0;34m\u001b[0m\u001b[0;34m\u001b[0m\u001b[0m\n\u001b[0;32m----> 5\u001b[0;31m     \u001b[0mset_trace\u001b[0m\u001b[0;34m(\u001b[0m\u001b[0;34m)\u001b[0m\u001b[0;34m\u001b[0m\u001b[0;34m\u001b[0m\u001b[0m\n\u001b[0m\u001b[1;32m      6\u001b[0m     \u001b[0;32mif\u001b[0m \u001b[0mn\u001b[0m \u001b[0;34m<=\u001b[0m \u001b[0;36m0\u001b[0m \u001b[0;32mor\u001b[0m \u001b[0mtype\u001b[0m\u001b[0;34m(\u001b[0m\u001b[0mn\u001b[0m\u001b[0;34m)\u001b[0m \u001b[0;32mis\u001b[0m \u001b[0;32mnot\u001b[0m \u001b[0mint\u001b[0m\u001b[0;34m:\u001b[0m\u001b[0;34m\u001b[0m\u001b[0;34m\u001b[0m\u001b[0m\n\u001b[1;32m      7\u001b[0m         \u001b[0;32mraise\u001b[0m \u001b[0mValueError\u001b[0m\u001b[0;34m(\u001b[0m\u001b[0;34mf'Arg must be a positive int, got {n}'\u001b[0m\u001b[0;34m)\u001b[0m\u001b[0;34m\u001b[0m\u001b[0;34m\u001b[0m\u001b[0m\n",
      "\u001b[0;32m~/conda_envs/data_course/lib/python3.6/site-packages/IPython/core/debugger.py\u001b[0m in \u001b[0;36mset_trace\u001b[0;34m(frame)\u001b[0m\n\u001b[1;32m    640\u001b[0m     \u001b[0mIf\u001b[0m \u001b[0mframe\u001b[0m \u001b[0;32mis\u001b[0m \u001b[0;32mnot\u001b[0m \u001b[0mspecified\u001b[0m\u001b[0;34m,\u001b[0m \u001b[0mdebugging\u001b[0m \u001b[0mstarts\u001b[0m \u001b[0;32mfrom\u001b[0m \u001b[0mcaller\u001b[0m\u001b[0;31m'\u001b[0m\u001b[0ms\u001b[0m \u001b[0mframe\u001b[0m\u001b[0;34m.\u001b[0m\u001b[0;34m\u001b[0m\u001b[0;34m\u001b[0m\u001b[0m\n\u001b[1;32m    641\u001b[0m     \"\"\"\n\u001b[0;32m--> 642\u001b[0;31m     \u001b[0mPdb\u001b[0m\u001b[0;34m(\u001b[0m\u001b[0;34m)\u001b[0m\u001b[0;34m.\u001b[0m\u001b[0mset_trace\u001b[0m\u001b[0;34m(\u001b[0m\u001b[0mframe\u001b[0m \u001b[0;32mor\u001b[0m \u001b[0msys\u001b[0m\u001b[0;34m.\u001b[0m\u001b[0m_getframe\u001b[0m\u001b[0;34m(\u001b[0m\u001b[0;34m)\u001b[0m\u001b[0;34m.\u001b[0m\u001b[0mf_back\u001b[0m\u001b[0;34m)\u001b[0m\u001b[0;34m\u001b[0m\u001b[0;34m\u001b[0m\u001b[0m\n\u001b[0m",
      "\u001b[0;32m~/conda_envs/data_course/lib/python3.6/site-packages/IPython/core/debugger.py\u001b[0m in \u001b[0;36m__init__\u001b[0;34m(self, color_scheme, completekey, stdin, stdout, context, **kwargs)\u001b[0m\n\u001b[1;32m    221\u001b[0m         \u001b[0;31m# Parent constructor:\u001b[0m\u001b[0;34m\u001b[0m\u001b[0;34m\u001b[0m\u001b[0;34m\u001b[0m\u001b[0m\n\u001b[1;32m    222\u001b[0m         \u001b[0;32mtry\u001b[0m\u001b[0;34m:\u001b[0m\u001b[0;34m\u001b[0m\u001b[0;34m\u001b[0m\u001b[0m\n\u001b[0;32m--> 223\u001b[0;31m             \u001b[0mself\u001b[0m\u001b[0;34m.\u001b[0m\u001b[0mcontext\u001b[0m \u001b[0;34m=\u001b[0m \u001b[0mint\u001b[0m\u001b[0;34m(\u001b[0m\u001b[0mcontext\u001b[0m\u001b[0;34m)\u001b[0m\u001b[0;34m\u001b[0m\u001b[0;34m\u001b[0m\u001b[0m\n\u001b[0m\u001b[1;32m    224\u001b[0m             \u001b[0;32mif\u001b[0m \u001b[0mself\u001b[0m\u001b[0;34m.\u001b[0m\u001b[0mcontext\u001b[0m \u001b[0;34m<=\u001b[0m \u001b[0;36m0\u001b[0m\u001b[0;34m:\u001b[0m\u001b[0;34m\u001b[0m\u001b[0;34m\u001b[0m\u001b[0m\n\u001b[1;32m    225\u001b[0m                 \u001b[0;32mraise\u001b[0m \u001b[0mValueError\u001b[0m\u001b[0;34m(\u001b[0m\u001b[0;34m\"Context must be a positive integer\"\u001b[0m\u001b[0;34m)\u001b[0m\u001b[0;34m\u001b[0m\u001b[0;34m\u001b[0m\u001b[0m\n",
      "\u001b[0;32m~/conda_envs/data_course/lib/python3.6/site-packages/IPython/core/debugger.py\u001b[0m in \u001b[0;36m__init__\u001b[0;34m(self, color_scheme, completekey, stdin, stdout, context, **kwargs)\u001b[0m\n\u001b[1;32m    221\u001b[0m         \u001b[0;31m# Parent constructor:\u001b[0m\u001b[0;34m\u001b[0m\u001b[0;34m\u001b[0m\u001b[0;34m\u001b[0m\u001b[0m\n\u001b[1;32m    222\u001b[0m         \u001b[0;32mtry\u001b[0m\u001b[0;34m:\u001b[0m\u001b[0;34m\u001b[0m\u001b[0;34m\u001b[0m\u001b[0m\n\u001b[0;32m--> 223\u001b[0;31m             \u001b[0mself\u001b[0m\u001b[0;34m.\u001b[0m\u001b[0mcontext\u001b[0m \u001b[0;34m=\u001b[0m \u001b[0mint\u001b[0m\u001b[0;34m(\u001b[0m\u001b[0mcontext\u001b[0m\u001b[0;34m)\u001b[0m\u001b[0;34m\u001b[0m\u001b[0;34m\u001b[0m\u001b[0m\n\u001b[0m\u001b[1;32m    224\u001b[0m             \u001b[0;32mif\u001b[0m \u001b[0mself\u001b[0m\u001b[0;34m.\u001b[0m\u001b[0mcontext\u001b[0m \u001b[0;34m<=\u001b[0m \u001b[0;36m0\u001b[0m\u001b[0;34m:\u001b[0m\u001b[0;34m\u001b[0m\u001b[0;34m\u001b[0m\u001b[0m\n\u001b[1;32m    225\u001b[0m                 \u001b[0;32mraise\u001b[0m \u001b[0mValueError\u001b[0m\u001b[0;34m(\u001b[0m\u001b[0;34m\"Context must be a positive integer\"\u001b[0m\u001b[0;34m)\u001b[0m\u001b[0;34m\u001b[0m\u001b[0;34m\u001b[0m\u001b[0m\n",
      "\u001b[0;32m~/conda_envs/data_course/lib/python3.6/bdb.py\u001b[0m in \u001b[0;36mtrace_dispatch\u001b[0;34m(self, frame, event, arg)\u001b[0m\n\u001b[1;32m     49\u001b[0m             \u001b[0;32mreturn\u001b[0m \u001b[0;31m# None\u001b[0m\u001b[0;34m\u001b[0m\u001b[0;34m\u001b[0m\u001b[0m\n\u001b[1;32m     50\u001b[0m         \u001b[0;32mif\u001b[0m \u001b[0mevent\u001b[0m \u001b[0;34m==\u001b[0m \u001b[0;34m'line'\u001b[0m\u001b[0;34m:\u001b[0m\u001b[0;34m\u001b[0m\u001b[0;34m\u001b[0m\u001b[0m\n\u001b[0;32m---> 51\u001b[0;31m             \u001b[0;32mreturn\u001b[0m \u001b[0mself\u001b[0m\u001b[0;34m.\u001b[0m\u001b[0mdispatch_line\u001b[0m\u001b[0;34m(\u001b[0m\u001b[0mframe\u001b[0m\u001b[0;34m)\u001b[0m\u001b[0;34m\u001b[0m\u001b[0;34m\u001b[0m\u001b[0m\n\u001b[0m\u001b[1;32m     52\u001b[0m         \u001b[0;32mif\u001b[0m \u001b[0mevent\u001b[0m \u001b[0;34m==\u001b[0m \u001b[0;34m'call'\u001b[0m\u001b[0;34m:\u001b[0m\u001b[0;34m\u001b[0m\u001b[0;34m\u001b[0m\u001b[0m\n\u001b[1;32m     53\u001b[0m             \u001b[0;32mreturn\u001b[0m \u001b[0mself\u001b[0m\u001b[0;34m.\u001b[0m\u001b[0mdispatch_call\u001b[0m\u001b[0;34m(\u001b[0m\u001b[0mframe\u001b[0m\u001b[0;34m,\u001b[0m \u001b[0marg\u001b[0m\u001b[0;34m)\u001b[0m\u001b[0;34m\u001b[0m\u001b[0;34m\u001b[0m\u001b[0m\n",
      "\u001b[0;32m~/conda_envs/data_course/lib/python3.6/bdb.py\u001b[0m in \u001b[0;36mdispatch_line\u001b[0;34m(self, frame)\u001b[0m\n\u001b[1;32m     68\u001b[0m         \u001b[0;32mif\u001b[0m \u001b[0mself\u001b[0m\u001b[0;34m.\u001b[0m\u001b[0mstop_here\u001b[0m\u001b[0;34m(\u001b[0m\u001b[0mframe\u001b[0m\u001b[0;34m)\u001b[0m \u001b[0;32mor\u001b[0m \u001b[0mself\u001b[0m\u001b[0;34m.\u001b[0m\u001b[0mbreak_here\u001b[0m\u001b[0;34m(\u001b[0m\u001b[0mframe\u001b[0m\u001b[0;34m)\u001b[0m\u001b[0;34m:\u001b[0m\u001b[0;34m\u001b[0m\u001b[0;34m\u001b[0m\u001b[0m\n\u001b[1;32m     69\u001b[0m             \u001b[0mself\u001b[0m\u001b[0;34m.\u001b[0m\u001b[0muser_line\u001b[0m\u001b[0;34m(\u001b[0m\u001b[0mframe\u001b[0m\u001b[0;34m)\u001b[0m\u001b[0;34m\u001b[0m\u001b[0;34m\u001b[0m\u001b[0m\n\u001b[0;32m---> 70\u001b[0;31m             \u001b[0;32mif\u001b[0m \u001b[0mself\u001b[0m\u001b[0;34m.\u001b[0m\u001b[0mquitting\u001b[0m\u001b[0;34m:\u001b[0m \u001b[0;32mraise\u001b[0m \u001b[0mBdbQuit\u001b[0m\u001b[0;34m\u001b[0m\u001b[0;34m\u001b[0m\u001b[0m\n\u001b[0m\u001b[1;32m     71\u001b[0m         \u001b[0;32mreturn\u001b[0m \u001b[0mself\u001b[0m\u001b[0;34m.\u001b[0m\u001b[0mtrace_dispatch\u001b[0m\u001b[0;34m\u001b[0m\u001b[0;34m\u001b[0m\u001b[0m\n\u001b[1;32m     72\u001b[0m \u001b[0;34m\u001b[0m\u001b[0m\n",
      "\u001b[0;31mBdbQuit\u001b[0m: "
     ]
    }
   ],
   "source": [
    "import math\n",
    "from IPython.core.debugger import set_trace\n",
    "\n",
    "def fib(n):\n",
    "    set_trace()\n",
    "    if n <= 0 or type(n) is not int:\n",
    "        raise ValueError(f'Arg must be a positive int, got {n}')\n",
    "    elif n == 1:\n",
    "        return 0\n",
    "    elif n == 2:\n",
    "        return 1\n",
    "    else:\n",
    "        return fib(n-1) + fib(n)\n",
    "fib(3)"
   ]
  },
  {
   "cell_type": "markdown",
   "metadata": {},
   "source": [
    "## General Good Habits"
   ]
  },
  {
   "cell_type": "markdown",
   "metadata": {},
   "source": [
    "### Linting\n",
    "\n",
    "\"[Linting](https://en.wikipedia.org/wiki/Lint_%28software%29)\" is the act of running some sort of software that analyses your code and checks for syntax (or other errors).  It's a very useful tool that encourages you to write in a manner that not only runs, but looks professional.  This makes your code easier to read, debug, and understand for both yourself and your collaborators.  IDEs like [PyCharm](https://www.jetbrains.com/pycharm/) typically have [linting built in](https://www.jetbrains.com/help/pycharm/code-inspection.html), but it can also be run externally by using packages such as [Flake8](http://flake8.pycqa.org/en/latest/).  Remember, just because code runs does not mean that the output is correct!  Well-formated and consistent code will help you determine the source of an error more quickly than sifting through messy garbage code.  Your future self will thank you, your collaborators will thank you, and humanity as a whole can hold its head a little higher.\n",
    "\n",
    "Python style standards are based on the [PEP 8 (Python Enhancement Proposal 8)](https://www.python.org/dev/peps/pep-0008/) style guide.  The PEPs, in general, are where all official Python improvements and features are documented.  PEP 8 details the \"shoulds\" and \"should nots\" for Python programming and stylistic changes.  Here's an example of two pieces of code that produce the same thing, one that follows the PEP 8 standard and one that does not:"
   ]
  },
  {
   "cell_type": "code",
   "execution_count": 2,
   "metadata": {},
   "outputs": [
    {
     "name": "stdout",
     "output_type": "stream",
     "text": [
      "Today's date is 2019-09-24 16:25:12.789078\n",
      "[ 6.95407571 -7.51067268 -6.15986129 -5.0952413   7.99606841]\n"
     ]
    }
   ],
   "source": [
    "# PEP 8 ignored.  Code is offensive to the eye and shameful.\n",
    "\n",
    "# Mult some nmbrs against a\n",
    "import math,datetime\n",
    "from numpy import *\n",
    "random.seed(1)\n",
    "a = random.normal(size=100)\n",
    "def RanNumMaFunc(a1,a2):\n",
    "    __a1    = math.ceil(a1)\n",
    "    aa1=random.normal(size=(len(a),__a1));aa2=random.normal(size=(__a1,a2))\n",
    "    _outMat1 = matmul(a,aa1); _outMat2 = matmul(_outMat1, aa2)\n",
    "    d=datetime.datetime.now()\n",
    "    dd = \"Today's date is %s\" % d\n",
    "    print(dd);return _outMat2\n",
    "print(RanNumMaFunc(2.1,5))"
   ]
  },
  {
   "cell_type": "code",
   "execution_count": 3,
   "metadata": {},
   "outputs": [
    {
     "name": "stdout",
     "output_type": "stream",
     "text": [
      "Today's date is 2019-09-24 16:26:15.563623\n",
      "[ 6.95407571 -7.51067268 -6.15986129 -5.0952413   7.99606841]\n"
     ]
    }
   ],
   "source": [
    "# PEP 8 is followed.  Code is beautiful, angels sing.\n",
    "import datetime\n",
    "import math\n",
    "\n",
    "import numpy as np\n",
    "\n",
    "np.random.seed(1)\n",
    "_global_data = np.random.normal(size=100)\n",
    "\n",
    "\n",
    "def random_num_mult(shape1, shape2):\n",
    "    \"\"\"Multiply the global data by two random matricies of shape:\n",
    "        ( len(_global_data), shape1), and (shape1, shape2).\n",
    "    Also prints the current time.\"\"\"\n",
    "\n",
    "    shape1 = math.ceil(shape1)\n",
    "    mat1 = np.random.normal(size=(len(_global_data), shape1))\n",
    "    mat2 = np.random.normal(size=(shape1, shape2))\n",
    "\n",
    "    # Chained matrix mult\n",
    "    output = np.matmul(np.matmul(_global_data, mat1),\n",
    "                       mat2)\n",
    "\n",
    "    current_time = datetime.datetime.now()\n",
    "    print(f\"Today's date is {current_time}\")\n",
    "\n",
    "    return output\n",
    "\n",
    "print(random_num_mult(2.1,5))"
   ]
  },
  {
   "cell_type": "markdown",
   "metadata": {},
   "source": [
    "While it's great to get used to proper coding style, use tools to help get in the habit. Try out flake8 on the bad version of code:"
   ]
  },
  {
   "cell_type": "markdown",
   "metadata": {},
   "source": [
    "```shell\n",
    "$ flake8 data_modules/pep8_example_bad.py\n",
    "\n",
    "data_modules/pep8_example_bad.py:3:12: E401 multiple imports on one line\n",
    "data_modules/pep8_example_bad.py:3:12: E231 missing whitespace after ','\n",
    "data_modules/pep8_example_bad.py:5:1: F405 'random' may be undefined, or defined from star imports: numpy\n",
    "data_modules/pep8_example_bad.py:6:5: F405 'random' may be undefined, or defined from star imports: numpy\n",
    "data_modules/pep8_example_bad.py:7:1: E302 expected 2 blank lines, found 0\n",
    "data_modules/pep8_example_bad.py:7:20: E231 missing whitespace after ','\n",
    "data_modules/pep8_example_bad.py:9:8: E225 missing whitespace around operator\n",
    "data_modules/pep8_example_bad.py:9:9: F405 'random' may be undefined, or defined from star imports: numpy\n",
    "data_modules/pep8_example_bad.py:9:35: E231 missing whitespace after ','\n",
    "data_modules/pep8_example_bad.py:9:42: E702 multiple statements on one line (semicolon)\n",
    "data_modules/pep8_example_bad.py:9:42: E231 missing whitespace after ';'\n",
    "data_modules/pep8_example_bad.py:9:46: E225 missing whitespace around operator\n",
    "data_modules/pep8_example_bad.py:9:47: F405 'random' may be undefined, or defined from star imports: numpy\n",
    "data_modules/pep8_example_bad.py:9:71: E231 missing whitespace after ','\n",
    "data_modules/pep8_example_bad.py:10:16: F405 'matmul' may be undefined, or defined from star imports: numpy\n",
    "data_modules/pep8_example_bad.py:10:24: E231 missing whitespace after ','\n",
    "data_modules/pep8_example_bad.py:10:29: E702 multiple statements on one line (semicolon)\n",
    "data_modules/pep8_example_bad.py:10:42: F405 'matmul' may be undefined, or defined from star imports: numpy\n",
    "data_modules/pep8_example_bad.py:11:6: E225 missing whitespace around operator\n",
    "data_modules/pep8_example_bad.py:15:1: W391 blank line at end of file\n",
    "```"
   ]
  },
  {
   "cell_type": "markdown",
   "metadata": {},
   "source": [
    "### Project Structure\n",
    "After the initial exploration of a project, you'll most likely want to start writing actual modules to better tackle the problem.  With very minimal effort, those modules can be used and imported just like any other proper python projects.  Let's say we have a project, and want to import modules like:\n",
    "```python\n",
    "from foo import foo_module_1\n",
    "```\n",
    "We can set up our project in the following manner:\n",
    "<pre>\n",
    "my_project/\n",
    "    <b>setup.py</b>\n",
    "    foo_bar/\n",
    "        <b>__init__.py</b>\n",
    "        foo/\n",
    "            <b>__init__.py</b>\n",
    "            foo_module_1.py\n",
    "            foo_module_2.py\n",
    "            foo_module_3.py\n",
    "        bar/\n",
    "            <b>__init__.py</b>\n",
    "            bar_module.py\n",
    "            ...\n",
    "</pre>\n",
    "Notice the `__init__.py` files and the `setup.py` file.  The `__init__.py` should live in any directory that contains modules or is part of the import chain.  For our purposes, they are simply empty files, but they can be customized for [more intricate behavior](https://docs.python.org/3/tutorial/modules.html#importing-from-a-package).\n",
    "\n",
    "The `setup.py` file is needed so we can **install** our package and import it from anywhere in our environment, just like anything installed via `pip` or `conda install`.  The `setup.py` file can contain a lot of information about the project, its required dependencies, its metadata, etc., but we will use just a bare-bones version:\n",
    "```python\n",
    "from setuptools import setup\n",
    "\n",
    "setup(name='foo_bar',\n",
    "      version='1.0',\n",
    "      description='The foo package',\n",
    "      author='Brian Pollack',\n",
    "      author_email='brianleepollack@gmail.com',\n",
    "      packages=['foo']\n",
    "     )\n",
    "```\n",
    "\n",
    "This is enough information to tell python how to install your package (but it [can do a lot more](https://stackoverflow.com/questions/1471994/what-is-setup-py)).  Since we will certainly be actively developing the modules as our project evolves, we want to make sure the install tracks these changes.  Use the following command to install the package:\n",
    "```shell\n",
    "python setup.py develop\n",
    "```\n",
    "\n",
    "Now we can finally import our modules!  For example (may need to restart kernel):\n"
   ]
  },
  {
   "cell_type": "code",
   "execution_count": null,
   "metadata": {},
   "outputs": [],
   "source": [
    "from foo_bar.bar.bar_module import bar_number_maker\n",
    "bar_number_maker()"
   ]
  },
  {
   "cell_type": "markdown",
   "metadata": {},
   "source": [
    "What happens if we edit our function?  Let's change the output of foo_bar.bar.bar_module.bar_number_maker() to 43."
   ]
  },
  {
   "cell_type": "code",
   "execution_count": null,
   "metadata": {},
   "outputs": [],
   "source": [
    "bar_number_maker()"
   ]
  },
  {
   "cell_type": "markdown",
   "metadata": {},
   "source": [
    "Nothing happened.  Jupyter needs a magic function to tell it to reload modules.  This can be accomplished via the [autoreload](https://ipython.org/ipython-doc/3/config/extensions/autoreload.html) magic command:"
   ]
  },
  {
   "cell_type": "code",
   "execution_count": null,
   "metadata": {},
   "outputs": [],
   "source": [
    "# load in autoreload\n",
    "%load_ext autoreload\n",
    "# set it to aggressively reload all valid modules every time a cell is executed\n",
    "%autoreload 2\n",
    "# We need to reimport anything we want to be auto-loaded (usually we will put autoreload at top of notebook, before all imports)\n",
    "from foo_bar.bar.bar_module import bar_number_maker\n"
   ]
  },
  {
   "cell_type": "code",
   "execution_count": null,
   "metadata": {},
   "outputs": [],
   "source": [
    "bar_number_maker()"
   ]
  },
  {
   "cell_type": "markdown",
   "metadata": {},
   "source": [
    "### Docstrings\n",
    "Commenting code is very useful practice, for both your potential collaborators and your future self.  Python also allows users to generate docstrings quickly and easily, which generate the helpful tips and usage you see with real packages.  Let's take a look at the docstring for `np.random.normal`:"
   ]
  },
  {
   "cell_type": "code",
   "execution_count": null,
   "metadata": {},
   "outputs": [],
   "source": [
    "import numpy as np\n",
    "np.random.normal?"
   ]
  },
  {
   "cell_type": "markdown",
   "metadata": {},
   "source": [
    "Great, it gives us a lot of info at a glance, including usage and examples (helpful hint: try doing Shift+Tab when your cursor is on `normal`).  Let's try making one for our own function.  Simply add a string right after the function definition, using the triple-quote string block."
   ]
  },
  {
   "cell_type": "code",
   "execution_count": null,
   "metadata": {},
   "outputs": [],
   "source": [
    "def my_doc_func(x, y=None):\n",
    "    '''This is an amazing docstring!'''"
   ]
  },
  {
   "cell_type": "code",
   "execution_count": null,
   "metadata": {},
   "outputs": [],
   "source": [
    "my_doc_func?"
   ]
  },
  {
   "cell_type": "code",
   "execution_count": null,
   "metadata": {},
   "outputs": [],
   "source": [
    "my_doc_func.__doc__"
   ]
  },
  {
   "cell_type": "code",
   "execution_count": null,
   "metadata": {},
   "outputs": [],
   "source": [
    "def my_doc_func_2(x, y=None):\n",
    "    \"\"\"Example function using a google-style docstring.\n",
    "\n",
    "    This function takes one or two arguments, and performs complicated mathematical tricks.\n",
    "\n",
    "    Args:\n",
    "        x (int): The first parameter.\n",
    "        y (float, optional): The second parameter.  Defaults to None.\n",
    "\n",
    "    Returns:\n",
    "        float: The result of a complex mathematical equation\n",
    "    \"\"\"\n",
    "    if not y:\n",
    "        y = 0.1\n",
    "    return x+y\n"
   ]
  },
  {
   "cell_type": "code",
   "execution_count": null,
   "metadata": {},
   "outputs": [],
   "source": [
    "my_doc_func_2?"
   ]
  },
  {
   "cell_type": "markdown",
   "metadata": {},
   "source": [
    "There are many different [docstring formats](https://stackoverflow.com/questions/3898572/what-is-the-standard-python-docstring-format), and helpful tools exist that can read docstrings and generate the appropriate API documentation from them.  This is very helpful if your project is growing in size and popularity, as it lets other users comprehend your code much more easily than sifting through a pile of .py files.  If you're interested in generating websites for you project, check out these links:\n",
    "\n",
    "1. http://www.sphinx-doc.org/en/master/\n",
    "2. https://www.sphinx-doc.org/en/master/usage/extensions/napoleon.html\n"
   ]
  },
  {
   "cell_type": "markdown",
   "metadata": {},
   "source": [
    "## Customization"
   ]
  },
  {
   "cell_type": "markdown",
   "metadata": {},
   "source": [
    "You will be using tools like Jupyter Notebook, code editors, terminals, etc... for a large chunk of your career.  Don't be afraid to modify your setup until it's just the way you like it!  Here are some resources for customization for various programming tools:\n",
    "\n",
    "1. [nbextensions](https://jupyter-contrib-nbextensions.readthedocs.io/en/latest/install.html).  These are jupyter notebook tools that add additional functionality or change features.  The table of contents on my slides are auto-generated thanks to one of these extensions.\n",
    "1. [jupyter themes](https://github.com/dunovank/jupyter-themes). Make your notebook look nicer! Set up various aesthetic themes (including different dark modes) and give your eyes a break.\n",
    "1. [custom vim plugin set](https://github.com/amix/vimrc).  Do you use `vim` as your editor? Check out these awesome plugins and vimrc to convert bare-bones vim into a full IDE."
   ]
  }
 ],
 "metadata": {
  "celltoolbar": "Raw Cell Format",
  "kernelspec": {
   "display_name": "Python 3",
   "language": "python",
   "name": "python3"
  },
  "language_info": {
   "codemirror_mode": {
    "name": "ipython",
    "version": 3
   },
   "file_extension": ".py",
   "mimetype": "text/x-python",
   "name": "python",
   "nbconvert_exporter": "python",
   "pygments_lexer": "ipython3",
   "version": "3.6.7"
  },
  "toc": {
   "base_numbering": 1,
   "nav_menu": {},
   "number_sections": true,
   "sideBar": true,
   "skip_h1_title": true,
   "title_cell": "Table of Contents",
   "title_sidebar": "Contents",
   "toc_cell": true,
   "toc_position": {
    "height": "calc(100% - 180px)",
    "left": "10px",
    "top": "150px",
    "width": "232px"
   },
   "toc_section_display": true,
   "toc_window_display": true
  }
 },
 "nbformat": 4,
 "nbformat_minor": 2
}
