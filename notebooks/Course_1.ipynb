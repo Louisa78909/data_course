{
 "cells": [
  {
   "cell_type": "markdown",
   "metadata": {},
   "source": [
    "# Practical Exploratory Data Analysis"
   ]
  },
  {
   "cell_type": "markdown",
   "metadata": {},
   "source": [
    "## Course 1: Setup, Environment, Backups, Reproducibility"
   ]
  },
  {
   "cell_type": "markdown",
   "metadata": {},
   "source": [
    "The goal of this series of courses is to act as a guide for exploratory data analysis (EDA), using practical, interactive examples.  In particular, the following skills, techniques, and concepts will be emphasized:\n",
    "\n",
    "1. Introductory Tasks.\n",
    "    A. Setting up an appropriate workspace.\n",
    "    B. The benefits of virtual environments.\n",
    "    C. Versioning, redundancy, and reproducibility.\n",
    "    D. Style and organization.\n",
    "2. Basic Analysis Tools.\n",
    "    A. I/O and manipulation.\n",
    "    B. Visualization.\n",
    "    C. "
   ]
  },
  {
   "cell_type": "markdown",
   "metadata": {},
   "source": [
    "## Installation"
   ]
  },
  {
   "cell_type": "code",
   "execution_count": null,
   "metadata": {},
   "outputs": [],
   "source": []
  }
 ],
 "metadata": {
  "celltoolbar": "Raw Cell Format",
  "kernelspec": {
   "display_name": "Python 3",
   "language": "python",
   "name": "python3"
  },
  "language_info": {
   "codemirror_mode": {
    "name": "ipython",
    "version": 3
   },
   "file_extension": ".py",
   "mimetype": "text/x-python",
   "name": "python",
   "nbconvert_exporter": "python",
   "pygments_lexer": "ipython3",
   "version": "3.7.1"
  }
 },
 "nbformat": 4,
 "nbformat_minor": 2
}
